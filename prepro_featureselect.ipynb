{
 "cells": [
  {
   "cell_type": "markdown",
   "metadata": {},
   "source": [
    "### Discussion Related With Outliers And Impact On Machine Learning!!"
   ]
  },
  {
   "cell_type": "markdown",
   "metadata": {},
   "source": [
    "##### Which Machine LEarning Models Are Sensitive To Outliers?\n",
    "1. Naivye Bayes Classifier--- Not Sensitive To Outliers\n",
    "2. SVM--------                Not Sensitive To Outliers          \n",
    "3. Linear Regression----------  Sensitive To Outliers\n",
    "4. Logistic Regression-------   Sensitive To Outliers\n",
    "5. Decision Tree Regressor or Classifier---- Not Sensitive\n",
    "6. Ensemble(RF,XGboost,GB)------- Not Sensitive\n",
    "7. KNN--------------------------- Not Sensitive \n",
    "8. Kmeans------------------------ Sensitive\n",
    "9. Hierarichal------------------- Sensitive \n",
    "10. PCA-------------------------- Sensitive \n",
    "11. Neural Networks-------------- Sensitive\n"
   ]
  },
  {
   "cell_type": "code",
   "execution_count": 731,
   "metadata": {},
   "outputs": [],
   "source": [
    "import pandas as pd"
   ]
  },
  {
   "cell_type": "code",
   "execution_count": 732,
   "metadata": {},
   "outputs": [
    {
     "data": {
      "text/html": [
       "<div>\n",
       "<style scoped>\n",
       "    .dataframe tbody tr th:only-of-type {\n",
       "        vertical-align: middle;\n",
       "    }\n",
       "\n",
       "    .dataframe tbody tr th {\n",
       "        vertical-align: top;\n",
       "    }\n",
       "\n",
       "    .dataframe thead th {\n",
       "        text-align: right;\n",
       "    }\n",
       "</style>\n",
       "<table border=\"1\" class=\"dataframe\">\n",
       "  <thead>\n",
       "    <tr style=\"text-align: right;\">\n",
       "      <th></th>\n",
       "      <th>PassengerId</th>\n",
       "      <th>Survived</th>\n",
       "      <th>Pclass</th>\n",
       "      <th>Name</th>\n",
       "      <th>Sex</th>\n",
       "      <th>Age</th>\n",
       "      <th>SibSp</th>\n",
       "      <th>Parch</th>\n",
       "      <th>Ticket</th>\n",
       "      <th>Fare</th>\n",
       "      <th>Cabin</th>\n",
       "      <th>Embarked</th>\n",
       "    </tr>\n",
       "  </thead>\n",
       "  <tbody>\n",
       "    <tr>\n",
       "      <th>0</th>\n",
       "      <td>1</td>\n",
       "      <td>0</td>\n",
       "      <td>3</td>\n",
       "      <td>Braund, Mr. Owen Harris</td>\n",
       "      <td>male</td>\n",
       "      <td>22.0</td>\n",
       "      <td>1</td>\n",
       "      <td>0</td>\n",
       "      <td>A/5 21171</td>\n",
       "      <td>7.2500</td>\n",
       "      <td>NaN</td>\n",
       "      <td>S</td>\n",
       "    </tr>\n",
       "    <tr>\n",
       "      <th>1</th>\n",
       "      <td>2</td>\n",
       "      <td>1</td>\n",
       "      <td>1</td>\n",
       "      <td>Cumings, Mrs. John Bradley (Florence Briggs Th...</td>\n",
       "      <td>female</td>\n",
       "      <td>38.0</td>\n",
       "      <td>1</td>\n",
       "      <td>0</td>\n",
       "      <td>PC 17599</td>\n",
       "      <td>71.2833</td>\n",
       "      <td>C85</td>\n",
       "      <td>C</td>\n",
       "    </tr>\n",
       "    <tr>\n",
       "      <th>2</th>\n",
       "      <td>3</td>\n",
       "      <td>1</td>\n",
       "      <td>3</td>\n",
       "      <td>Heikkinen, Miss. Laina</td>\n",
       "      <td>female</td>\n",
       "      <td>26.0</td>\n",
       "      <td>0</td>\n",
       "      <td>0</td>\n",
       "      <td>STON/O2. 3101282</td>\n",
       "      <td>7.9250</td>\n",
       "      <td>NaN</td>\n",
       "      <td>S</td>\n",
       "    </tr>\n",
       "    <tr>\n",
       "      <th>3</th>\n",
       "      <td>4</td>\n",
       "      <td>1</td>\n",
       "      <td>1</td>\n",
       "      <td>Futrelle, Mrs. Jacques Heath (Lily May Peel)</td>\n",
       "      <td>female</td>\n",
       "      <td>35.0</td>\n",
       "      <td>1</td>\n",
       "      <td>0</td>\n",
       "      <td>113803</td>\n",
       "      <td>53.1000</td>\n",
       "      <td>C123</td>\n",
       "      <td>S</td>\n",
       "    </tr>\n",
       "    <tr>\n",
       "      <th>4</th>\n",
       "      <td>5</td>\n",
       "      <td>0</td>\n",
       "      <td>3</td>\n",
       "      <td>Allen, Mr. William Henry</td>\n",
       "      <td>male</td>\n",
       "      <td>35.0</td>\n",
       "      <td>0</td>\n",
       "      <td>0</td>\n",
       "      <td>373450</td>\n",
       "      <td>8.0500</td>\n",
       "      <td>NaN</td>\n",
       "      <td>S</td>\n",
       "    </tr>\n",
       "  </tbody>\n",
       "</table>\n",
       "</div>"
      ],
      "text/plain": [
       "   PassengerId  Survived  Pclass  \\\n",
       "0            1         0       3   \n",
       "1            2         1       1   \n",
       "2            3         1       3   \n",
       "3            4         1       1   \n",
       "4            5         0       3   \n",
       "\n",
       "                                                Name     Sex   Age  SibSp  \\\n",
       "0                            Braund, Mr. Owen Harris    male  22.0      1   \n",
       "1  Cumings, Mrs. John Bradley (Florence Briggs Th...  female  38.0      1   \n",
       "2                             Heikkinen, Miss. Laina  female  26.0      0   \n",
       "3       Futrelle, Mrs. Jacques Heath (Lily May Peel)  female  35.0      1   \n",
       "4                           Allen, Mr. William Henry    male  35.0      0   \n",
       "\n",
       "   Parch            Ticket     Fare Cabin Embarked  \n",
       "0      0         A/5 21171   7.2500   NaN        S  \n",
       "1      0          PC 17599  71.2833   C85        C  \n",
       "2      0  STON/O2. 3101282   7.9250   NaN        S  \n",
       "3      0            113803  53.1000  C123        S  \n",
       "4      0            373450   8.0500   NaN        S  "
      ]
     },
     "execution_count": 732,
     "metadata": {},
     "output_type": "execute_result"
    }
   ],
   "source": [
    "df=pd.read_csv('titanic.csv')\n",
    "df.head()"
   ]
  },
  {
   "cell_type": "code",
   "execution_count": 733,
   "metadata": {},
   "outputs": [
    {
     "name": "stdout",
     "output_type": "stream",
     "text": [
      "<class 'pandas.core.frame.DataFrame'>\n",
      "RangeIndex: 891 entries, 0 to 890\n",
      "Data columns (total 12 columns):\n",
      " #   Column       Non-Null Count  Dtype  \n",
      "---  ------       --------------  -----  \n",
      " 0   PassengerId  891 non-null    int64  \n",
      " 1   Survived     891 non-null    int64  \n",
      " 2   Pclass       891 non-null    int64  \n",
      " 3   Name         891 non-null    object \n",
      " 4   Sex          891 non-null    object \n",
      " 5   Age          714 non-null    float64\n",
      " 6   SibSp        891 non-null    int64  \n",
      " 7   Parch        891 non-null    int64  \n",
      " 8   Ticket       891 non-null    object \n",
      " 9   Fare         891 non-null    float64\n",
      " 10  Cabin        204 non-null    object \n",
      " 11  Embarked     889 non-null    object \n",
      "dtypes: float64(2), int64(5), object(5)\n",
      "memory usage: 83.7+ KB\n"
     ]
    }
   ],
   "source": [
    "df.info()"
   ]
  },
  {
   "cell_type": "code",
   "execution_count": 734,
   "metadata": {},
   "outputs": [
    {
     "data": {
      "text/plain": [
       "PassengerId      0\n",
       "Survived         0\n",
       "Pclass           0\n",
       "Name             0\n",
       "Sex              0\n",
       "Age            177\n",
       "SibSp            0\n",
       "Parch            0\n",
       "Ticket           0\n",
       "Fare             0\n",
       "Cabin          687\n",
       "Embarked         2\n",
       "dtype: int64"
      ]
     },
     "execution_count": 734,
     "metadata": {},
     "output_type": "execute_result"
    }
   ],
   "source": [
    "import pandas as pd\n",
    "df=pd.read_csv('titanic.csv')\n",
    "df.isnull().sum()"
   ]
  },
  {
   "attachments": {},
   "cell_type": "markdown",
   "metadata": {},
   "source": [
    "XU LI THEM MEDIAN"
   ]
  },
  {
   "cell_type": "code",
   "execution_count": 735,
   "metadata": {},
   "outputs": [],
   "source": [
    "\n",
    "median=df['Age'].median() # ! 28.0\n",
    "df['Age_median']=df['Age'].fillna(median)\n",
    "\n"
   ]
  },
  {
   "cell_type": "code",
   "execution_count": 736,
   "metadata": {},
   "outputs": [
    {
     "data": {
      "text/plain": [
       "<matplotlib.legend.Legend at 0x25878e8e770>"
      ]
     },
     "execution_count": 736,
     "metadata": {},
     "output_type": "execute_result"
    },
    {
     "data": {
      "image/png": "[encoded data removed]",
      "text/plain": [
       "<Figure size 640x480 with 1 Axes>"
      ]
     },
     "metadata": {},
     "output_type": "display_data"
    }
   ],
   "source": [
    "import seaborn as sns\n",
    "import matplotlib.pyplot as plt\n",
    "fig = plt.figure()\n",
    "ax = fig.add_subplot(111)\n",
    "df['Age'].plot(kind='kde', color='blue')\n",
    "df['Age_median'].plot(kind='kde', color='red')\n",
    "lines, labels = ax.get_legend_handles_labels()\n",
    "ax.legend(lines, labels, loc='best')"
   ]
  },
  {
   "attachments": {},
   "cell_type": "markdown",
   "metadata": {},
   "source": [
    "THAY THE BANG MEAN"
   ]
  },
  {
   "cell_type": "code",
   "execution_count": 737,
   "metadata": {},
   "outputs": [],
   "source": [
    "mean=df['Age'].mean() # ! 28.0\n",
    "df['Age_mean']=df['Age'].fillna(mean)"
   ]
  },
  {
   "cell_type": "code",
   "execution_count": 738,
   "metadata": {},
   "outputs": [
    {
     "data": {
      "text/plain": [
       "<matplotlib.legend.Legend at 0x25800f2d390>"
      ]
     },
     "execution_count": 738,
     "metadata": {},
     "output_type": "execute_result"
    },
    {
     "data": {
      "image/png": "[encoded data removed]",
      "text/plain": [
       "<Figure size 640x480 with 1 Axes>"
      ]
     },
     "metadata": {},
     "output_type": "display_data"
    }
   ],
   "source": [
    "fig = plt.figure()\n",
    "ax = fig.add_subplot(111)\n",
    "df['Age'].plot(kind='kde', color='blue')\n",
    "df['Age_mean'].plot(kind='kde', color='red')\n",
    "lines, labels = ax.get_legend_handles_labels()\n",
    "ax.legend(lines, labels, loc='best')"
   ]
  },
  {
   "attachments": {},
   "cell_type": "markdown",
   "metadata": {},
   "source": [
    "THAY THE BANG MODE"
   ]
  },
  {
   "cell_type": "code",
   "execution_count": 739,
   "metadata": {},
   "outputs": [],
   "source": [
    "mode=df['Age'].mode() # ! 28.0\n",
    "df['Age_mode']=df['Age'].fillna(float(mode.values))"
   ]
  },
  {
   "cell_type": "code",
   "execution_count": 740,
   "metadata": {},
   "outputs": [
    {
     "data": {
      "text/plain": [
       "<matplotlib.legend.Legend at 0x2587ec7fd60>"
      ]
     },
     "execution_count": 740,
     "metadata": {},
     "output_type": "execute_result"
    },
    {
     "data": {
      "image/png": "[encoded data removed]",
      "text/plain": [
       "<Figure size 640x480 with 1 Axes>"
      ]
     },
     "metadata": {},
     "output_type": "display_data"
    }
   ],
   "source": [
    "fig = plt.figure()\n",
    "ax = fig.add_subplot(111)\n",
    "df['Age'].plot(kind='kde', color='blue')\n",
    "df['Age_mode'].plot(kind='kde', color='red')\n",
    "lines, labels = ax.get_legend_handles_labels()\n",
    "ax.legend(lines, labels, loc='best')\n",
    "\n"
   ]
  },
  {
   "attachments": {},
   "cell_type": "markdown",
   "metadata": {},
   "source": [
    "THAY THE GIA TRI NGAU NHIEN"
   ]
  },
  {
   "cell_type": "code",
   "execution_count": 741,
   "metadata": {},
   "outputs": [
    {
     "data": {
      "text/plain": [
       "743    24.0\n",
       "Name: Age, dtype: float64"
      ]
     },
     "execution_count": 741,
     "metadata": {},
     "output_type": "execute_result"
    }
   ],
   "source": [
    "df['Age'].dropna().sample()"
   ]
  },
  {
   "cell_type": "code",
   "execution_count": 742,
   "metadata": {},
   "outputs": [
    {
     "data": {
      "text/plain": [
       "423    28.00\n",
       "177    50.00\n",
       "305     0.92\n",
       "292    36.00\n",
       "889    26.00\n",
       "       ...  \n",
       "539    22.00\n",
       "267    25.00\n",
       "352    15.00\n",
       "99     34.00\n",
       "689    15.00\n",
       "Name: Age, Length: 177, dtype: float64"
      ]
     },
     "execution_count": 742,
     "metadata": {},
     "output_type": "execute_result"
    }
   ],
   "source": [
    "\n",
    "random_samples = df['Age'].dropna().sample(n=df['Age'].isnull()\n",
    ".sum(),random_state=0)\n",
    "random_samples\n"
   ]
  },
  {
   "cell_type": "code",
   "execution_count": 743,
   "metadata": {},
   "outputs": [
    {
     "data": {
      "text/plain": [
       "Int64Index([  5,  17,  19,  26,  28,  29,  31,  32,  36,  42,\n",
       "            ...\n",
       "            832, 837, 839, 846, 849, 859, 863, 868, 878, 888],\n",
       "           dtype='int64', length=177)"
      ]
     },
     "execution_count": 743,
     "metadata": {},
     "output_type": "execute_result"
    }
   ],
   "source": [
    "df[df['Age'].isnull()].index"
   ]
  },
  {
   "cell_type": "code",
   "execution_count": 744,
   "metadata": {},
   "outputs": [],
   "source": [
    "random_samples.index = df[df['Age'].isnull()].index"
   ]
  },
  {
   "cell_type": "code",
   "execution_count": 745,
   "metadata": {},
   "outputs": [
    {
     "data": {
      "text/html": [
       "<div>\n",
       "<style scoped>\n",
       "    .dataframe tbody tr th:only-of-type {\n",
       "        vertical-align: middle;\n",
       "    }\n",
       "\n",
       "    .dataframe tbody tr th {\n",
       "        vertical-align: top;\n",
       "    }\n",
       "\n",
       "    .dataframe thead th {\n",
       "        text-align: right;\n",
       "    }\n",
       "</style>\n",
       "<table border=\"1\" class=\"dataframe\">\n",
       "  <thead>\n",
       "    <tr style=\"text-align: right;\">\n",
       "      <th></th>\n",
       "      <th>PassengerId</th>\n",
       "      <th>Survived</th>\n",
       "      <th>Pclass</th>\n",
       "      <th>Name</th>\n",
       "      <th>Sex</th>\n",
       "      <th>Age</th>\n",
       "      <th>SibSp</th>\n",
       "      <th>Parch</th>\n",
       "      <th>Ticket</th>\n",
       "      <th>Fare</th>\n",
       "      <th>Cabin</th>\n",
       "      <th>Embarked</th>\n",
       "      <th>Age_median</th>\n",
       "      <th>Age_mean</th>\n",
       "      <th>Age_mode</th>\n",
       "      <th>Age_random</th>\n",
       "    </tr>\n",
       "  </thead>\n",
       "  <tbody>\n",
       "    <tr>\n",
       "      <th>886</th>\n",
       "      <td>887</td>\n",
       "      <td>0</td>\n",
       "      <td>2</td>\n",
       "      <td>Montvila, Rev. Juozas</td>\n",
       "      <td>male</td>\n",
       "      <td>27.0</td>\n",
       "      <td>0</td>\n",
       "      <td>0</td>\n",
       "      <td>211536</td>\n",
       "      <td>13.00</td>\n",
       "      <td>NaN</td>\n",
       "      <td>S</td>\n",
       "      <td>27.0</td>\n",
       "      <td>27.000000</td>\n",
       "      <td>27.0</td>\n",
       "      <td>27.0</td>\n",
       "    </tr>\n",
       "    <tr>\n",
       "      <th>887</th>\n",
       "      <td>888</td>\n",
       "      <td>1</td>\n",
       "      <td>1</td>\n",
       "      <td>Graham, Miss. Margaret Edith</td>\n",
       "      <td>female</td>\n",
       "      <td>19.0</td>\n",
       "      <td>0</td>\n",
       "      <td>0</td>\n",
       "      <td>112053</td>\n",
       "      <td>30.00</td>\n",
       "      <td>B42</td>\n",
       "      <td>S</td>\n",
       "      <td>19.0</td>\n",
       "      <td>19.000000</td>\n",
       "      <td>19.0</td>\n",
       "      <td>19.0</td>\n",
       "    </tr>\n",
       "    <tr>\n",
       "      <th>888</th>\n",
       "      <td>889</td>\n",
       "      <td>0</td>\n",
       "      <td>3</td>\n",
       "      <td>Johnston, Miss. Catherine Helen \"Carrie\"</td>\n",
       "      <td>female</td>\n",
       "      <td>NaN</td>\n",
       "      <td>1</td>\n",
       "      <td>2</td>\n",
       "      <td>W./C. 6607</td>\n",
       "      <td>23.45</td>\n",
       "      <td>NaN</td>\n",
       "      <td>S</td>\n",
       "      <td>28.0</td>\n",
       "      <td>29.699118</td>\n",
       "      <td>24.0</td>\n",
       "      <td>15.0</td>\n",
       "    </tr>\n",
       "    <tr>\n",
       "      <th>889</th>\n",
       "      <td>890</td>\n",
       "      <td>1</td>\n",
       "      <td>1</td>\n",
       "      <td>Behr, Mr. Karl Howell</td>\n",
       "      <td>male</td>\n",
       "      <td>26.0</td>\n",
       "      <td>0</td>\n",
       "      <td>0</td>\n",
       "      <td>111369</td>\n",
       "      <td>30.00</td>\n",
       "      <td>C148</td>\n",
       "      <td>C</td>\n",
       "      <td>26.0</td>\n",
       "      <td>26.000000</td>\n",
       "      <td>26.0</td>\n",
       "      <td>26.0</td>\n",
       "    </tr>\n",
       "    <tr>\n",
       "      <th>890</th>\n",
       "      <td>891</td>\n",
       "      <td>0</td>\n",
       "      <td>3</td>\n",
       "      <td>Dooley, Mr. Patrick</td>\n",
       "      <td>male</td>\n",
       "      <td>32.0</td>\n",
       "      <td>0</td>\n",
       "      <td>0</td>\n",
       "      <td>370376</td>\n",
       "      <td>7.75</td>\n",
       "      <td>NaN</td>\n",
       "      <td>Q</td>\n",
       "      <td>32.0</td>\n",
       "      <td>32.000000</td>\n",
       "      <td>32.0</td>\n",
       "      <td>32.0</td>\n",
       "    </tr>\n",
       "  </tbody>\n",
       "</table>\n",
       "</div>"
      ],
      "text/plain": [
       "     PassengerId  Survived  Pclass                                      Name  \\\n",
       "886          887         0       2                     Montvila, Rev. Juozas   \n",
       "887          888         1       1              Graham, Miss. Margaret Edith   \n",
       "888          889         0       3  Johnston, Miss. Catherine Helen \"Carrie\"   \n",
       "889          890         1       1                     Behr, Mr. Karl Howell   \n",
       "890          891         0       3                       Dooley, Mr. Patrick   \n",
       "\n",
       "        Sex   Age  SibSp  Parch      Ticket   Fare Cabin Embarked  Age_median  \\\n",
       "886    male  27.0      0      0      211536  13.00   NaN        S        27.0   \n",
       "887  female  19.0      0      0      112053  30.00   B42        S        19.0   \n",
       "888  female   NaN      1      2  W./C. 6607  23.45   NaN        S        28.0   \n",
       "889    male  26.0      0      0      111369  30.00  C148        C        26.0   \n",
       "890    male  32.0      0      0      370376   7.75   NaN        Q        32.0   \n",
       "\n",
       "      Age_mean  Age_mode  Age_random  \n",
       "886  27.000000      27.0        27.0  \n",
       "887  19.000000      19.0        19.0  \n",
       "888  29.699118      24.0        15.0  \n",
       "889  26.000000      26.0        26.0  \n",
       "890  32.000000      32.0        32.0  "
      ]
     },
     "execution_count": 745,
     "metadata": {},
     "output_type": "execute_result"
    }
   ],
   "source": [
    "df['Age_random']=df['Age']\n",
    "df.loc[df['Age'].isnull(), 'Age_random']=random_samples\n",
    "df.tail()"
   ]
  },
  {
   "cell_type": "code",
   "execution_count": 746,
   "metadata": {},
   "outputs": [
    {
     "data": {
      "text/plain": [
       "<matplotlib.legend.Legend at 0x25801528340>"
      ]
     },
     "execution_count": 746,
     "metadata": {},
     "output_type": "execute_result"
    },
    {
     "data": {
      "image/png": "[encoded data removed]",
      "text/plain": [
       "<Figure size 640x480 with 1 Axes>"
      ]
     },
     "metadata": {},
     "output_type": "display_data"
    }
   ],
   "source": [
    "import matplotlib.pyplot as plt\n",
    "fig = plt.figure()\n",
    "ax = fig.add_subplot(111)\n",
    "df['Age'].plot(kind='kde', ax=ax, color='blue')\n",
    "df['Age_random'].plot(kind='kde', ax=ax, color='green')\n",
    "lines, labels = ax.get_legend_handles_labels()\n",
    "ax.legend(lines, labels, loc='best')\n",
    "\n"
   ]
  },
  {
   "cell_type": "code",
   "execution_count": 747,
   "metadata": {},
   "outputs": [],
   "source": [
    "# sns.distplot(df['Age'].dropna())"
   ]
  },
  {
   "cell_type": "code",
   "execution_count": 748,
   "metadata": {},
   "outputs": [],
   "source": [
    "# sns.distplot(df['Age'].fillna(100))"
   ]
  },
  {
   "attachments": {},
   "cell_type": "markdown",
   "metadata": {},
   "source": [
    "THEM DU LIEU O DUOI"
   ]
  },
  {
   "cell_type": "code",
   "execution_count": 749,
   "metadata": {},
   "outputs": [
    {
     "data": {
      "text/plain": [
       "73.27860964406094"
      ]
     },
     "execution_count": 749,
     "metadata": {},
     "output_type": "execute_result"
    }
   ],
   "source": [
    "# gia tri o duoi cua phan bo (bien Age theo phan bo chuan)\n",
    "extreme = df.Age.mean() + 3*df.Age.std()\n",
    "extreme\n"
   ]
  },
  {
   "cell_type": "code",
   "execution_count": 750,
   "metadata": {},
   "outputs": [],
   "source": [
    "# định nghia hàm thay thế dữ liệu theo 2 cách:  End of Distribution\n",
    "def impute_nan(df,variable,median,extreme):\n",
    "    df[variable+\"_end_dist\"]=df[variable].fillna(extreme)"
   ]
  },
  {
   "cell_type": "code",
   "execution_count": 751,
   "metadata": {},
   "outputs": [],
   "source": [
    "# gọi hàm thay thế dữ liệu\n",
    "impute_nan(df,'Age',df.Age.median(),extreme)"
   ]
  },
  {
   "cell_type": "code",
   "execution_count": 752,
   "metadata": {},
   "outputs": [
    {
     "data": {
      "text/plain": [
       "<Axes: >"
      ]
     },
     "execution_count": 752,
     "metadata": {},
     "output_type": "execute_result"
    },
    {
     "data": {
      "image/png": "[encoded data removed]",
      "text/plain": [
       "<Figure size 640x480 with 1 Axes>"
      ]
     },
     "metadata": {},
     "output_type": "display_data"
    }
   ],
   "source": [
    "df['Age_end_dist'].hist(bins=50)"
   ]
  },
  {
   "cell_type": "code",
   "execution_count": 753,
   "metadata": {},
   "outputs": [],
   "source": [
    "def impute_nan(df,variable):\n",
    "    df[variable+'_zero']=df[variable].fillna(0)\n",
    "    df[variable+'_hundred']=df[variable].fillna(100)"
   ]
  },
  {
   "cell_type": "code",
   "execution_count": 754,
   "metadata": {},
   "outputs": [],
   "source": [
    "impute_nan(df,'Age')"
   ]
  },
  {
   "cell_type": "code",
   "execution_count": 755,
   "metadata": {},
   "outputs": [
    {
     "data": {
      "text/plain": [
       "<Axes: >"
      ]
     },
     "execution_count": 755,
     "metadata": {},
     "output_type": "execute_result"
    },
    {
     "data": {
      "image/png": "[encoded data removed]",
      "text/plain": [
       "<Figure size 640x480 with 1 Axes>"
      ]
     },
     "metadata": {},
     "output_type": "display_data"
    }
   ],
   "source": [
    "\n",
    "df['Age_zero'].hist(bins=50)\n"
   ]
  },
  {
   "cell_type": "code",
   "execution_count": 756,
   "metadata": {},
   "outputs": [
    {
     "data": {
      "text/plain": [
       "<Axes: >"
      ]
     },
     "execution_count": 756,
     "metadata": {},
     "output_type": "execute_result"
    },
    {
     "data": {
      "image/png": "[encoded data removed]",
      "text/plain": [
       "<Figure size 640x480 with 1 Axes>"
      ]
     },
     "metadata": {},
     "output_type": "display_data"
    }
   ],
   "source": [
    "df['Age_hundred'].hist(bins=50)"
   ]
  },
  {
   "attachments": {},
   "cell_type": "markdown",
   "metadata": {},
   "source": [
    "<!-- #### Gaussian Distributed -->"
   ]
  },
  {
   "cell_type": "code",
   "execution_count": 757,
   "metadata": {},
   "outputs": [],
   "source": [
    "# figure=df.Age.hist(bins=50)\n",
    "# figure.set_title('Age')\n",
    "# figure.set_xlabel('Age')\n",
    "# figure.set_ylabel('No of passenger')"
   ]
  },
  {
   "cell_type": "code",
   "execution_count": 758,
   "metadata": {},
   "outputs": [],
   "source": [
    "# figure=df.boxplot(column=\"Age\")"
   ]
  },
  {
   "cell_type": "code",
   "execution_count": 759,
   "metadata": {
    "scrolled": true
   },
   "outputs": [],
   "source": [
    "# df['Age'].describe()"
   ]
  },
  {
   "cell_type": "markdown",
   "metadata": {},
   "source": [
    "THEM GIA TRI NGAU NHIEN"
   ]
  },
  {
   "cell_type": "code",
   "execution_count": 760,
   "metadata": {},
   "outputs": [],
   "source": [
    "import numpy as np\n",
    "mode=df['Age'].mode() # ! 28.0\n",
    "df['Age_random2']=df['Age'].fillna(float(np.random.randint(100)))"
   ]
  },
  {
   "cell_type": "code",
   "execution_count": 761,
   "metadata": {},
   "outputs": [
    {
     "name": "stdout",
     "output_type": "stream",
     "text": [
      "<class 'pandas.core.series.Series'>\n",
      "RangeIndex: 891 entries, 0 to 890\n",
      "Series name: Age_random2\n",
      "Non-Null Count  Dtype  \n",
      "--------------  -----  \n",
      "891 non-null    float64\n",
      "dtypes: float64(1)\n",
      "memory usage: 7.1 KB\n"
     ]
    }
   ],
   "source": [
    "df['Age_random2'].info()"
   ]
  },
  {
   "cell_type": "code",
   "execution_count": 762,
   "metadata": {},
   "outputs": [
    {
     "data": {
      "text/plain": [
       "<matplotlib.legend.Legend at 0x25801c2a920>"
      ]
     },
     "execution_count": 762,
     "metadata": {},
     "output_type": "execute_result"
    },
    {
     "data": {
      "image/png": "[encoded data removed]",
      "text/plain": [
       "<Figure size 640x480 with 1 Axes>"
      ]
     },
     "metadata": {},
     "output_type": "display_data"
    }
   ],
   "source": [
    "import matplotlib.pyplot as plt\n",
    "fig = plt.figure()\n",
    "ax = fig.add_subplot(111)\n",
    "df['Age'].plot(kind='kde', ax=ax, color='blue')\n",
    "df['Age_random2'].plot(kind='kde', ax=ax, color='green')\n",
    "lines, labels = ax.get_legend_handles_labels()\n",
    "ax.legend(lines, labels, loc='best')"
   ]
  },
  {
   "attachments": {},
   "cell_type": "markdown",
   "metadata": {},
   "source": [
    "NEW FEATURE"
   ]
  },
  {
   "cell_type": "code",
   "execution_count": 763,
   "metadata": {},
   "outputs": [],
   "source": [
    "import numpy as np\n",
    "df['Age_NAN']=np.where(df['Age'].isnull(),1,0)"
   ]
  },
  {
   "cell_type": "code",
   "execution_count": 764,
   "metadata": {},
   "outputs": [],
   "source": [
    "df['Age_Newf']=df['Age']\n",
    "df['Age_Newf'].fillna(df.Age.median(),inplace=True)"
   ]
  },
  {
   "cell_type": "code",
   "execution_count": 765,
   "metadata": {},
   "outputs": [
    {
     "name": "stdout",
     "output_type": "stream",
     "text": [
      "<class 'pandas.core.series.Series'>\n",
      "RangeIndex: 891 entries, 0 to 890\n",
      "Series name: Age\n",
      "Non-Null Count  Dtype  \n",
      "--------------  -----  \n",
      "714 non-null    float64\n",
      "dtypes: float64(1)\n",
      "memory usage: 7.1 KB\n"
     ]
    }
   ],
   "source": [
    "df['Age'].info()"
   ]
  },
  {
   "attachments": {},
   "cell_type": "markdown",
   "metadata": {},
   "source": [
    "#### OUTLIERS  ( GAUSSIAN)"
   ]
  },
  {
   "cell_type": "code",
   "execution_count": 766,
   "metadata": {},
   "outputs": [],
   "source": [
    "\n",
    "def gaussian(lst):\n",
    "    \n",
    "    uppper_boundary=lst.mean() + 3* lst.std()\n",
    "    lower_boundary=lst.mean() - 3* lst.std()\n",
    "    print(lower_boundary), print(uppper_boundary),print(lst.mean())\n",
    "    lst.loc[lst>=uppper_boundary]=uppper_boundary\n",
    "    return lst"
   ]
  },
  {
   "attachments": {},
   "cell_type": "markdown",
   "metadata": {},
   "source": [
    "#### OUTLIERS  (SKEWED)"
   ]
  },
  {
   "cell_type": "code",
   "execution_count": 767,
   "metadata": {},
   "outputs": [
    {
     "data": {
      "text/plain": [
       "Text(0, 0.5, 'No of passenger')"
      ]
     },
     "execution_count": 767,
     "metadata": {},
     "output_type": "execute_result"
    },
    {
     "data": {
      "image/png": "[encoded data removed]",
      "text/plain": [
       "<Figure size 640x480 with 1 Axes>"
      ]
     },
     "metadata": {},
     "output_type": "display_data"
    }
   ],
   "source": [
    "figure=df.Fare.hist(bins=50)\n",
    "figure.set_title('Fare')\n",
    "figure.set_xlabel('Fare')\n",
    "figure.set_ylabel('No of passenger')"
   ]
  },
  {
   "cell_type": "code",
   "execution_count": 768,
   "metadata": {},
   "outputs": [
    {
     "data": {
      "text/plain": [
       "<Axes: >"
      ]
     },
     "execution_count": 768,
     "metadata": {},
     "output_type": "execute_result"
    },
    {
     "data": {
      "image/png": "[encoded data removed]",
      "text/plain": [
       "<Figure size 640x480 with 1 Axes>"
      ]
     },
     "metadata": {},
     "output_type": "display_data"
    }
   ],
   "source": [
    "df.boxplot(column=\"Fare\")"
   ]
  },
  {
   "cell_type": "code",
   "execution_count": 769,
   "metadata": {},
   "outputs": [
    {
     "data": {
      "text/plain": [
       "count    891.000000\n",
       "mean      32.204208\n",
       "std       49.693429\n",
       "min        0.000000\n",
       "25%        7.910400\n",
       "50%       14.454200\n",
       "75%       31.000000\n",
       "max      512.329200\n",
       "Name: Fare, dtype: float64"
      ]
     },
     "execution_count": 769,
     "metadata": {},
     "output_type": "execute_result"
    }
   ],
   "source": [
    "df['Fare'].describe()"
   ]
  },
  {
   "cell_type": "code",
   "execution_count": 770,
   "metadata": {},
   "outputs": [],
   "source": [
    "#### Lets compute the Interquantile range to calculate the boundaries\n",
    "IQR=df.Fare.quantile(0.75)-df.Fare.quantile(0.25)"
   ]
  },
  {
   "cell_type": "code",
   "execution_count": 771,
   "metadata": {},
   "outputs": [
    {
     "name": "stdout",
     "output_type": "stream",
     "text": [
      "-61.358399999999996\n",
      "100.2688\n"
     ]
    },
    {
     "data": {
      "text/plain": [
       "(None, None)"
      ]
     },
     "execution_count": 771,
     "metadata": {},
     "output_type": "execute_result"
    }
   ],
   "source": [
    "#### Extreme outliers\n",
    "lower_bridge=df['Fare'].quantile(0.25)-(IQR*3)\n",
    "upper_bridge=df['Fare'].quantile(0.75)+(IQR*3)\n",
    "print(lower_bridge), print(upper_bridge)"
   ]
  },
  {
   "cell_type": "code",
   "execution_count": 772,
   "metadata": {},
   "outputs": [],
   "source": [
    "data=df.copy()\n",
    "datas=df.copy()\n",
    "datag=df.copy()"
   ]
  },
  {
   "cell_type": "markdown",
   "metadata": {},
   "source": [
    "Xu li datas none - skewed"
   ]
  },
  {
   "cell_type": "code",
   "execution_count": 773,
   "metadata": {},
   "outputs": [],
   "source": [
    "datas.loc[datas['Fare']>=100,'Fare']=100"
   ]
  },
  {
   "attachments": {},
   "cell_type": "markdown",
   "metadata": {},
   "source": [
    "Xu li datag gauss"
   ]
  },
  {
   "cell_type": "code",
   "execution_count": 774,
   "metadata": {},
   "outputs": [
    {
     "name": "stdout",
     "output_type": "stream",
     "text": [
      "-9.306928030949827\n",
      "68.70516332506747\n",
      "29.69911764705882\n",
      "-11.031745606269713\n",
      "68.16568500020911\n",
      "28.566969696969696\n",
      "-9.697507161337114\n",
      "68.42067214450209\n",
      "29.36158249158249\n",
      "-13.990614345024813\n",
      "73.39131019238734\n",
      "29.70034792368126\n",
      "-12.926565520152298\n",
      "68.4712793248661\n",
      "27.7723569023569\n",
      "-26.801128903464424\n",
      "103.51377515935394\n",
      "38.356323127944755\n",
      "-9.697507161337114\n",
      "68.42067214450209\n",
      "29.36158249158249\n"
     ]
    },
    {
     "name": "stderr",
     "output_type": "stream",
     "text": [
      "C:\\Users\\ACER\\AppData\\Local\\Temp\\ipykernel_27184\\2215347619.py:6: SettingWithCopyWarning: \n",
      "A value is trying to be set on a copy of a slice from a DataFrame\n",
      "\n",
      "See the caveats in the documentation: https://pandas.pydata.org/pandas-docs/stable/user_guide/indexing.html#returning-a-view-versus-a-copy\n",
      "  lst.loc[lst>=uppper_boundary]=uppper_boundary\n"
     ]
    }
   ],
   "source": [
    "datag['Age_mean']=gaussian(datag['Age_mean'])\n",
    "datag['Age_mode']=gaussian(datag['Age_mode'])\n",
    "datag['Age_median']=gaussian(datag['Age_median'])\n",
    "datag['Age_random']=gaussian(datag['Age_random'])\n",
    "datag['Age_random2']=gaussian(datag['Age_random2'])\n",
    "datag['Age_end_dist']=gaussian(datag['Age_end_dist'])\n",
    "datag['Age_Newf']=gaussian(datag['Age_Newf'])\n",
    "# datag['Age_NAN']=gaussian(datag['Age_NAN'])\n",
    "\n",
    "\n",
    "\n",
    "\n",
    "\n"
   ]
  },
  {
   "cell_type": "code",
   "execution_count": 775,
   "metadata": {},
   "outputs": [
    {
     "data": {
      "text/plain": [
       "Text(0, 0.5, 'No of passenger')"
      ]
     },
     "execution_count": 775,
     "metadata": {},
     "output_type": "execute_result"
    },
    {
     "data": {
      "image/png": "[encoded data removed]",
      "text/plain": [
       "<Figure size 640x480 with 1 Axes>"
      ]
     },
     "metadata": {},
     "output_type": "display_data"
    }
   ],
   "source": [
    "figure=datag.Age_mean.hist(bins=50)\n",
    "figure.set_title('Age')\n",
    "figure.set_xlabel('Age')\n",
    "figure.set_ylabel('No of passenger')"
   ]
  },
  {
   "cell_type": "code",
   "execution_count": 776,
   "metadata": {},
   "outputs": [],
   "source": [
    "data.loc[data['Fare']>=100,'Fare']=100"
   ]
  },
  {
   "cell_type": "code",
   "execution_count": 777,
   "metadata": {},
   "outputs": [
    {
     "name": "stdout",
     "output_type": "stream",
     "text": [
      "-9.306928030949827\n",
      "68.70516332506747\n",
      "29.69911764705882\n",
      "-11.031745606269713\n",
      "68.16568500020911\n",
      "28.566969696969696\n",
      "-9.697507161337114\n",
      "68.42067214450209\n",
      "29.36158249158249\n",
      "-13.990614345024813\n",
      "73.39131019238734\n",
      "29.70034792368126\n",
      "-12.926565520152298\n",
      "68.4712793248661\n",
      "27.7723569023569\n",
      "-26.801128903464424\n",
      "103.51377515935394\n",
      "38.356323127944755\n",
      "-9.42417480193527\n",
      "68.08548727109692\n",
      "29.330656234580825\n"
     ]
    },
    {
     "name": "stderr",
     "output_type": "stream",
     "text": [
      "C:\\Users\\ACER\\AppData\\Local\\Temp\\ipykernel_27184\\2215347619.py:6: SettingWithCopyWarning: \n",
      "A value is trying to be set on a copy of a slice from a DataFrame\n",
      "\n",
      "See the caveats in the documentation: https://pandas.pydata.org/pandas-docs/stable/user_guide/indexing.html#returning-a-view-versus-a-copy\n",
      "  lst.loc[lst>=uppper_boundary]=uppper_boundary\n"
     ]
    }
   ],
   "source": [
    "data.loc[data['Age']>=73,'Age']=73\n",
    "data['Age_mean']=gaussian(data['Age_mean'])\n",
    "data['Age_mode']=gaussian(data['Age_mode'])\n",
    "data['Age_median']=gaussian(data['Age_median'])\n",
    "data['Age_random']=gaussian(data['Age_random'])\n",
    "data['Age_random2']=gaussian(data['Age_random2'])\n",
    "data['Age_end_dist']=gaussian(data['Age_end_dist'])\n",
    "datag['Age_Newf']=gaussian(datag['Age_Newf'])\n",
    "# data['Age_NAN']=gaussian(data['Age_NAN'])\n"
   ]
  },
  {
   "cell_type": "code",
   "execution_count": 778,
   "metadata": {},
   "outputs": [
    {
     "data": {
      "text/plain": [
       "Text(0, 0.5, 'No of passenger')"
      ]
     },
     "execution_count": 778,
     "metadata": {},
     "output_type": "execute_result"
    },
    {
     "data": {
      "image/png": "[encoded data removed]",
      "text/plain": [
       "<Figure size 640x480 with 1 Axes>"
      ]
     },
     "metadata": {},
     "output_type": "display_data"
    }
   ],
   "source": [
    "figure=data.Age.hist(bins=50)\n",
    "figure.set_title('Age')\n",
    "figure.set_xlabel('Age')\n",
    "figure.set_ylabel('No of passenger')"
   ]
  },
  {
   "cell_type": "code",
   "execution_count": 779,
   "metadata": {},
   "outputs": [
    {
     "data": {
      "text/plain": [
       "Text(0, 0.5, 'No of passenger')"
      ]
     },
     "execution_count": 779,
     "metadata": {},
     "output_type": "execute_result"
    },
    {
     "data": {
      "image/png": "[encoded data removed]",
      "text/plain": [
       "<Figure size 640x480 with 1 Axes>"
      ]
     },
     "metadata": {},
     "output_type": "display_data"
    }
   ],
   "source": [
    "figure=data.Fare.hist(bins=50)\n",
    "figure.set_title('Fare')\n",
    "figure.set_xlabel('Fare')\n",
    "figure.set_ylabel('No of passenger')"
   ]
  },
  {
   "attachments": {},
   "cell_type": "markdown",
   "metadata": {},
   "source": [
    "AGE"
   ]
  },
  {
   "cell_type": "code",
   "execution_count": 780,
   "metadata": {},
   "outputs": [
    {
     "name": "stdout",
     "output_type": "stream",
     "text": [
      "-33.5\n",
      "91.625\n"
     ]
    },
    {
     "data": {
      "text/plain": [
       "(None, None)"
      ]
     },
     "execution_count": 780,
     "metadata": {},
     "output_type": "execute_result"
    }
   ],
   "source": [
    "IQR=df.Age.quantile(0.75)-df.Age.quantile(0.25)\n",
    "lower_bridge=df['Age'].quantile(0.25)-(IQR*3)\n",
    "upper_bridge=df['Age'].quantile(0.75)+(IQR*3)\n",
    "print(lower_bridge), print(upper_bridge)"
   ]
  },
  {
   "cell_type": "code",
   "execution_count": 781,
   "metadata": {},
   "outputs": [],
   "source": [
    "data1=df.copy()"
   ]
  },
  {
   "cell_type": "code",
   "execution_count": 782,
   "metadata": {},
   "outputs": [
    {
     "name": "stdout",
     "output_type": "stream",
     "text": [
      "0      22.0\n",
      "1      38.0\n",
      "2      26.0\n",
      "3      35.0\n",
      "4      35.0\n",
      "       ... \n",
      "886    27.0\n",
      "887    19.0\n",
      "888     NaN\n",
      "889    26.0\n",
      "890    32.0\n",
      "Name: Age, Length: 891, dtype: float64\n"
     ]
    }
   ],
   "source": [
    "data1.loc[data['Age']>=91,'Age']=91\n",
    "print(data['Age'])"
   ]
  },
  {
   "cell_type": "code",
   "execution_count": 783,
   "metadata": {},
   "outputs": [],
   "source": [
    "data1.loc[data['Fare']>=100,'Fare']=100"
   ]
  },
  {
   "attachments": {},
   "cell_type": "markdown",
   "metadata": {},
   "source": [
    "Train AGE FARE"
   ]
  },
  {
   "cell_type": "code",
   "execution_count": 784,
   "metadata": {},
   "outputs": [],
   "source": [
    "AGEFARE_FIX=[]\n",
    "AGEFARE_NOTFIX=[]"
   ]
  },
  {
   "cell_type": "code",
   "execution_count": 785,
   "metadata": {},
   "outputs": [
    {
     "name": "stdout",
     "output_type": "stream",
     "text": [
      "Accuracy_score: 0.7052238805970149\n",
      "Accuracy_score: 0.6455223880597015\n",
      "Accuracy_score: 0.6902985074626866\n",
      "Accuracy_score: 0.6194029850746269\n",
      "Accuracy_score: 0.667910447761194\n",
      "Accuracy_score: 0.6865671641791045\n",
      "Accuracy_score: 0.7052238805970149\n",
      "Accuracy_score: 0.6753731343283582\n",
      "Accuracy_score: 0.6753731343283582\n",
      "Accuracy_score: 0.6529850746268657\n"
     ]
    }
   ],
   "source": [
    "for i in range(0,10):\n",
    "    from sklearn.model_selection import train_test_split\n",
    "    X_train,X_test,y_train,y_test=train_test_split(data[['Age','Fare']].fillna(0),data['Survived'],test_size=0.3, random_state=i)\n",
    "    ### Logistic Regression\n",
    "    from sklearn.linear_model import LogisticRegression\n",
    "    classifier=LogisticRegression()\n",
    "    classifier.fit(X_train,y_train)\n",
    "    y_pred=classifier.predict(X_test)\n",
    "\n",
    "    from sklearn.metrics import accuracy_score\n",
    "    print(\"Accuracy_score: {}\".format(accuracy_score(y_test,y_pred)))\n",
    "    AGEFARE_FIX.append(accuracy_score(y_test,y_pred))\n"
   ]
  },
  {
   "cell_type": "code",
   "execution_count": 786,
   "metadata": {},
   "outputs": [
    {
     "name": "stdout",
     "output_type": "stream",
     "text": [
      "Accuracy_score: 0.6940298507462687\n",
      "Accuracy_score: 0.6194029850746269\n",
      "Accuracy_score: 0.6567164179104478\n",
      "Accuracy_score: 0.6268656716417911\n",
      "Accuracy_score: 0.6716417910447762\n",
      "Accuracy_score: 0.664179104477612\n",
      "Accuracy_score: 0.6940298507462687\n",
      "Accuracy_score: 0.6194029850746269\n",
      "Accuracy_score: 0.6604477611940298\n",
      "Accuracy_score: 0.6492537313432836\n"
     ]
    }
   ],
   "source": [
    "for i in range(0,10):\n",
    "    from sklearn.model_selection import train_test_split\n",
    "    X_train,X_test,y_train,y_test=train_test_split(df[['Age','Fare']].fillna(0),data['Survived'],test_size=0.3, random_state=i)\n",
    "    ### Logistic Regression\n",
    "    from sklearn.linear_model import LogisticRegression\n",
    "    classifier=LogisticRegression()\n",
    "    classifier.fit(X_train,y_train)\n",
    "    y_pred=classifier.predict(X_test)\n",
    "\n",
    "    from sklearn.metrics import accuracy_score\n",
    "    print(\"Accuracy_score: {}\".format(accuracy_score(y_test,y_pred)))\n",
    "    AGEFARE_NOTFIX.append(accuracy_score(y_test,y_pred))"
   ]
  },
  {
   "cell_type": "code",
   "execution_count": 787,
   "metadata": {},
   "outputs": [
    {
     "name": "stdout",
     "output_type": "stream",
     "text": [
      "Accuracy_score: 0.6977611940298507\n",
      "Accuracy_score: 0.6194029850746269\n",
      "Accuracy_score: 0.6567164179104478\n",
      "Accuracy_score: 0.6417910447761194\n",
      "Accuracy_score: 0.6716417910447762\n",
      "Accuracy_score: 0.6492537313432836\n",
      "Accuracy_score: 0.6865671641791045\n",
      "Accuracy_score: 0.6305970149253731\n",
      "Accuracy_score: 0.6567164179104478\n",
      "Accuracy_score: 0.6305970149253731\n"
     ]
    }
   ],
   "source": [
    "for i in range(0,10):\n",
    "    from sklearn.model_selection import train_test_split\n",
    "    X_train,X_test,y_train,y_test=train_test_split(datag[['Age_mean','Fare']].fillna(0),data['Survived'],test_size=0.3, random_state=i)\n",
    "    ### Logistic Regression\n",
    "    from sklearn.linear_model import LogisticRegression\n",
    "    classifier=LogisticRegression()\n",
    "    classifier.fit(X_train,y_train)\n",
    "    y_pred=classifier.predict(X_test)\n",
    "\n",
    "    from sklearn.metrics import accuracy_score\n",
    "    print(\"Accuracy_score: {}\".format(accuracy_score(y_test,y_pred)))\n",
    "    AGEFARE_NOTFIX.append(accuracy_score(y_test,y_pred))"
   ]
  },
  {
   "attachments": {},
   "cell_type": "markdown",
   "metadata": {},
   "source": [
    "AGE_MEAN FARE"
   ]
  },
  {
   "cell_type": "code",
   "execution_count": 788,
   "metadata": {},
   "outputs": [],
   "source": [
    "AGE_MEANFARE_FIX=[] #data\n",
    "AGE_MEANFARE_NOTFIX=[] #df\n",
    "AGE_MEANFARE_FIX2=[] #datag\n",
    "AGE_MEANFARE_FIX3=[] #datas"
   ]
  },
  {
   "cell_type": "code",
   "execution_count": 789,
   "metadata": {},
   "outputs": [
    {
     "name": "stdout",
     "output_type": "stream",
     "text": [
      "Accuracy_score: 0.6977611940298507\n",
      "Accuracy_score: 0.6231343283582089\n",
      "Accuracy_score: 0.6865671641791045\n",
      "Accuracy_score: 0.6231343283582089\n",
      "Accuracy_score: 0.667910447761194\n",
      "Accuracy_score: 0.6940298507462687\n",
      "Accuracy_score: 0.7126865671641791\n",
      "Accuracy_score: 0.6604477611940298\n",
      "Accuracy_score: 0.667910447761194\n",
      "Accuracy_score: 0.6380597014925373\n"
     ]
    }
   ],
   "source": [
    "for i in range(0,10):\n",
    "    from sklearn.model_selection import train_test_split\n",
    "    X_train,X_test,y_train,y_test=train_test_split(data[['Age_mean','Fare']].fillna(0),data['Survived'],test_size=0.3, random_state=i)\n",
    "    ### Logistic Regression\n",
    "    from sklearn.linear_model import LogisticRegression\n",
    "    classifier=LogisticRegression()\n",
    "    classifier.fit(X_train,y_train)\n",
    "    y_pred=classifier.predict(X_test)\n",
    "\n",
    "    from sklearn.metrics import accuracy_score\n",
    "    print(\"Accuracy_score: {}\".format(accuracy_score(y_test,y_pred)))\n",
    "    AGE_MEANFARE_FIX.append(accuracy_score(y_test,y_pred))"
   ]
  },
  {
   "cell_type": "code",
   "execution_count": 790,
   "metadata": {},
   "outputs": [
    {
     "name": "stdout",
     "output_type": "stream",
     "text": [
      "Accuracy_score: 0.6865671641791045\n",
      "Accuracy_score: 0.6194029850746269\n",
      "Accuracy_score: 0.6567164179104478\n",
      "Accuracy_score: 0.6417910447761194\n",
      "Accuracy_score: 0.6753731343283582\n",
      "Accuracy_score: 0.6455223880597015\n",
      "Accuracy_score: 0.6865671641791045\n",
      "Accuracy_score: 0.6305970149253731\n",
      "Accuracy_score: 0.6567164179104478\n",
      "Accuracy_score: 0.6305970149253731\n"
     ]
    }
   ],
   "source": [
    "for i in range(0,10):\n",
    "    from sklearn.model_selection import train_test_split\n",
    "    X_train,X_test,y_train,y_test=train_test_split(df[['Age_mean','Fare']].fillna(0),data['Survived'],test_size=0.3, random_state=i)\n",
    "    ### Logistic Regression\n",
    "    from sklearn.linear_model import LogisticRegression\n",
    "    classifier=LogisticRegression()\n",
    "    classifier.fit(X_train,y_train)\n",
    "    y_pred=classifier.predict(X_test)\n",
    "\n",
    "    from sklearn.metrics import accuracy_score\n",
    "    print(\"Accuracy_score: {}\".format(accuracy_score(y_test,y_pred)))\n",
    "    AGE_MEANFARE_NOTFIX.append(accuracy_score(y_test,y_pred))"
   ]
  },
  {
   "cell_type": "code",
   "execution_count": 791,
   "metadata": {},
   "outputs": [
    {
     "name": "stdout",
     "output_type": "stream",
     "text": [
      "Accuracy_score: 0.6977611940298507\n",
      "Accuracy_score: 0.6194029850746269\n",
      "Accuracy_score: 0.6567164179104478\n",
      "Accuracy_score: 0.6417910447761194\n",
      "Accuracy_score: 0.6716417910447762\n",
      "Accuracy_score: 0.6492537313432836\n",
      "Accuracy_score: 0.6865671641791045\n",
      "Accuracy_score: 0.6305970149253731\n",
      "Accuracy_score: 0.6567164179104478\n",
      "Accuracy_score: 0.6305970149253731\n"
     ]
    }
   ],
   "source": [
    "for i in range(0,10):\n",
    "    from sklearn.model_selection import train_test_split\n",
    "    X_train,X_test,y_train,y_test=train_test_split(datag[['Age_mean','Fare']].fillna(0),data['Survived'],test_size=0.3, random_state=i)\n",
    "    ### Logistic Regression\n",
    "    from sklearn.linear_model import LogisticRegression\n",
    "    classifier=LogisticRegression()\n",
    "    classifier.fit(X_train,y_train)\n",
    "    y_pred=classifier.predict(X_test)\n",
    "\n",
    "    from sklearn.metrics import accuracy_score\n",
    "    print(\"Accuracy_score: {}\".format(accuracy_score(y_test,y_pred)))\n",
    "    AGE_MEANFARE_FIX2.append(accuracy_score(y_test,y_pred))"
   ]
  },
  {
   "cell_type": "code",
   "execution_count": 792,
   "metadata": {},
   "outputs": [
    {
     "name": "stdout",
     "output_type": "stream",
     "text": [
      "Accuracy_score: 0.6977611940298507\n",
      "Accuracy_score: 0.6231343283582089\n",
      "Accuracy_score: 0.6865671641791045\n",
      "Accuracy_score: 0.6231343283582089\n",
      "Accuracy_score: 0.667910447761194\n",
      "Accuracy_score: 0.6940298507462687\n",
      "Accuracy_score: 0.7126865671641791\n",
      "Accuracy_score: 0.6604477611940298\n",
      "Accuracy_score: 0.667910447761194\n",
      "Accuracy_score: 0.6380597014925373\n"
     ]
    }
   ],
   "source": [
    "for i in range(0,10):\n",
    "    from sklearn.model_selection import train_test_split\n",
    "    X_train,X_test,y_train,y_test=train_test_split(datas[['Age_mean','Fare']].fillna(0),data['Survived'],test_size=0.3, random_state=i)\n",
    "    ### Logistic Regression\n",
    "    from sklearn.linear_model import LogisticRegression\n",
    "    classifier=LogisticRegression()\n",
    "    classifier.fit(X_train,y_train)\n",
    "    y_pred=classifier.predict(X_test)\n",
    "\n",
    "    from sklearn.metrics import accuracy_score\n",
    "    print(\"Accuracy_score: {}\".format(accuracy_score(y_test,y_pred)))\n",
    "    AGE_MEANFARE_FIX3.append(accuracy_score(y_test,y_pred))"
   ]
  },
  {
   "attachments": {},
   "cell_type": "markdown",
   "metadata": {},
   "source": [
    "RANDOM"
   ]
  },
  {
   "cell_type": "code",
   "execution_count": 793,
   "metadata": {},
   "outputs": [],
   "source": [
    "RANDOM_FIX=[]\n",
    "RANDOM_NOTFIX=[]\n",
    "RANDOM_FIX2=[]\n",
    "RANDOM_FIX3=[]"
   ]
  },
  {
   "cell_type": "code",
   "execution_count": 794,
   "metadata": {},
   "outputs": [
    {
     "name": "stdout",
     "output_type": "stream",
     "text": [
      "Accuracy_score: 0.7014925373134329\n",
      "Accuracy_score: 0.6380597014925373\n",
      "Accuracy_score: 0.6865671641791045\n",
      "Accuracy_score: 0.6156716417910447\n",
      "Accuracy_score: 0.664179104477612\n",
      "Accuracy_score: 0.6977611940298507\n",
      "Accuracy_score: 0.7052238805970149\n",
      "Accuracy_score: 0.664179104477612\n",
      "Accuracy_score: 0.667910447761194\n",
      "Accuracy_score: 0.6343283582089553\n"
     ]
    }
   ],
   "source": [
    "for i in range(0,10):\n",
    "    from sklearn.model_selection import train_test_split\n",
    "    X_train,X_test,y_train,y_test=train_test_split(data[['Age_random','Fare']].fillna(0),data['Survived'],test_size=0.3, random_state=i)\n",
    "    ### Logistic Regression\n",
    "    from sklearn.linear_model import LogisticRegression\n",
    "    classifier=LogisticRegression()\n",
    "    classifier.fit(X_train,y_train)\n",
    "    y_pred=classifier.predict(X_test)\n",
    "\n",
    "    from sklearn.metrics import accuracy_score\n",
    "    print(\"Accuracy_score: {}\".format(accuracy_score(y_test,y_pred)))\n",
    "    RANDOM_FIX.append(accuracy_score(y_test,y_pred))"
   ]
  },
  {
   "cell_type": "code",
   "execution_count": 795,
   "metadata": {},
   "outputs": [
    {
     "name": "stdout",
     "output_type": "stream",
     "text": [
      "Accuracy_score: 0.6940298507462687\n",
      "Accuracy_score: 0.6268656716417911\n",
      "Accuracy_score: 0.6567164179104478\n",
      "Accuracy_score: 0.6268656716417911\n",
      "Accuracy_score: 0.6791044776119403\n",
      "Accuracy_score: 0.6529850746268657\n",
      "Accuracy_score: 0.6828358208955224\n",
      "Accuracy_score: 0.6268656716417911\n",
      "Accuracy_score: 0.6604477611940298\n",
      "Accuracy_score: 0.6380597014925373\n"
     ]
    }
   ],
   "source": [
    "for i in range(0,10):\n",
    "    from sklearn.model_selection import train_test_split\n",
    "    X_train,X_test,y_train,y_test=train_test_split(df[['Age_random','Fare']].fillna(0),data['Survived'],test_size=0.3, random_state=i)\n",
    "    ### Logistic Regression\n",
    "    from sklearn.linear_model import LogisticRegression\n",
    "    classifier=LogisticRegression()\n",
    "    classifier.fit(X_train,y_train)\n",
    "    y_pred=classifier.predict(X_test)\n",
    "\n",
    "    from sklearn.metrics import accuracy_score\n",
    "    print(\"Accuracy_score: {}\".format(accuracy_score(y_test,y_pred)))\n",
    "    RANDOM_NOTFIX.append(accuracy_score(y_test,y_pred))"
   ]
  },
  {
   "cell_type": "code",
   "execution_count": 796,
   "metadata": {},
   "outputs": [
    {
     "name": "stdout",
     "output_type": "stream",
     "text": [
      "Accuracy_score: 0.6940298507462687\n",
      "Accuracy_score: 0.6268656716417911\n",
      "Accuracy_score: 0.6567164179104478\n",
      "Accuracy_score: 0.6305970149253731\n",
      "Accuracy_score: 0.6791044776119403\n",
      "Accuracy_score: 0.6529850746268657\n",
      "Accuracy_score: 0.6828358208955224\n",
      "Accuracy_score: 0.6268656716417911\n",
      "Accuracy_score: 0.6604477611940298\n",
      "Accuracy_score: 0.6380597014925373\n"
     ]
    }
   ],
   "source": [
    "for i in range(0,10):\n",
    "    from sklearn.model_selection import train_test_split\n",
    "    X_train,X_test,y_train,y_test=train_test_split(datag[['Age_random','Fare']].fillna(0),data['Survived'],test_size=0.3, random_state=i)\n",
    "    ### Logistic Regression\n",
    "    from sklearn.linear_model import LogisticRegression\n",
    "    classifier=LogisticRegression()\n",
    "    classifier.fit(X_train,y_train)\n",
    "    y_pred=classifier.predict(X_test)\n",
    "\n",
    "    from sklearn.metrics import accuracy_score\n",
    "    print(\"Accuracy_score: {}\".format(accuracy_score(y_test,y_pred)))\n",
    "    RANDOM_FIX2.append(accuracy_score(y_test,y_pred))"
   ]
  },
  {
   "cell_type": "code",
   "execution_count": 797,
   "metadata": {},
   "outputs": [
    {
     "name": "stdout",
     "output_type": "stream",
     "text": [
      "Accuracy_score: 0.7014925373134329\n",
      "Accuracy_score: 0.6417910447761194\n",
      "Accuracy_score: 0.6865671641791045\n",
      "Accuracy_score: 0.6156716417910447\n",
      "Accuracy_score: 0.664179104477612\n",
      "Accuracy_score: 0.6977611940298507\n",
      "Accuracy_score: 0.7052238805970149\n",
      "Accuracy_score: 0.664179104477612\n",
      "Accuracy_score: 0.667910447761194\n",
      "Accuracy_score: 0.6343283582089553\n"
     ]
    }
   ],
   "source": [
    "for i in range(0,10):\n",
    "    from sklearn.model_selection import train_test_split\n",
    "    X_train,X_test,y_train,y_test=train_test_split(datas[['Age_random','Fare']].fillna(0),data['Survived'],test_size=0.3, random_state=i)\n",
    "    ### Logistic Regression\n",
    "    from sklearn.linear_model import LogisticRegression\n",
    "    classifier=LogisticRegression()\n",
    "    classifier.fit(X_train,y_train)\n",
    "    y_pred=classifier.predict(X_test)\n",
    "\n",
    "    from sklearn.metrics import accuracy_score\n",
    "    print(\"Accuracy_score: {}\".format(accuracy_score(y_test,y_pred)))\n",
    "    RANDOM_FIX3.append(accuracy_score(y_test,y_pred))"
   ]
  },
  {
   "attachments": {},
   "cell_type": "markdown",
   "metadata": {},
   "source": [
    "THEM GIA TRI NGAU NHIEN"
   ]
  },
  {
   "cell_type": "code",
   "execution_count": 798,
   "metadata": {},
   "outputs": [],
   "source": [
    "RANDOM2_FIX=[]\n",
    "RANDOM2_NOTFIX=[]\n",
    "RANDOM2_FIX2=[]\n",
    "RANDOM2_FIX3=[]"
   ]
  },
  {
   "cell_type": "code",
   "execution_count": 799,
   "metadata": {},
   "outputs": [
    {
     "name": "stdout",
     "output_type": "stream",
     "text": [
      "Accuracy_score: 0.6977611940298507\n",
      "Accuracy_score: 0.6343283582089553\n",
      "Accuracy_score: 0.6902985074626866\n",
      "Accuracy_score: 0.6268656716417911\n",
      "Accuracy_score: 0.664179104477612\n",
      "Accuracy_score: 0.6940298507462687\n",
      "Accuracy_score: 0.7014925373134329\n",
      "Accuracy_score: 0.664179104477612\n",
      "Accuracy_score: 0.667910447761194\n",
      "Accuracy_score: 0.6455223880597015\n"
     ]
    }
   ],
   "source": [
    "for i in range(0,10):\n",
    "    from sklearn.model_selection import train_test_split\n",
    "    X_train,X_test,y_train,y_test=train_test_split(data[['Age_random2','Fare']].fillna(0),data['Survived'],test_size=0.3, random_state=i)\n",
    "    ### Logistic Regression\n",
    "    from sklearn.linear_model import LogisticRegression\n",
    "    classifier=LogisticRegression()\n",
    "    classifier.fit(X_train,y_train)\n",
    "    y_pred=classifier.predict(X_test)\n",
    "\n",
    "    from sklearn.metrics import accuracy_score\n",
    "    print(\"Accuracy_score: {}\".format(accuracy_score(y_test,y_pred)))\n",
    "    RANDOM2_FIX.append(accuracy_score(y_test,y_pred))"
   ]
  },
  {
   "cell_type": "code",
   "execution_count": 800,
   "metadata": {},
   "outputs": [
    {
     "name": "stdout",
     "output_type": "stream",
     "text": [
      "Accuracy_score: 0.6940298507462687\n",
      "Accuracy_score: 0.6194029850746269\n",
      "Accuracy_score: 0.6492537313432836\n",
      "Accuracy_score: 0.6380597014925373\n",
      "Accuracy_score: 0.6791044776119403\n",
      "Accuracy_score: 0.6492537313432836\n",
      "Accuracy_score: 0.6791044776119403\n",
      "Accuracy_score: 0.6194029850746269\n",
      "Accuracy_score: 0.6567164179104478\n",
      "Accuracy_score: 0.6417910447761194\n"
     ]
    }
   ],
   "source": [
    "for i in range(0,10):\n",
    "    from sklearn.model_selection import train_test_split\n",
    "    X_train,X_test,y_train,y_test=train_test_split(df[['Age_random2','Fare']].fillna(0),data['Survived'],test_size=0.3, random_state=i)\n",
    "    ### Logistic Regression\n",
    "    from sklearn.linear_model import LogisticRegression\n",
    "    classifier=LogisticRegression()\n",
    "    classifier.fit(X_train,y_train)\n",
    "    y_pred=classifier.predict(X_test)\n",
    "\n",
    "    from sklearn.metrics import accuracy_score\n",
    "    print(\"Accuracy_score: {}\".format(accuracy_score(y_test,y_pred)))\n",
    "    RANDOM2_NOTFIX.append(accuracy_score(y_test,y_pred))"
   ]
  },
  {
   "cell_type": "code",
   "execution_count": 801,
   "metadata": {},
   "outputs": [
    {
     "name": "stdout",
     "output_type": "stream",
     "text": [
      "Accuracy_score: 0.6940298507462687\n",
      "Accuracy_score: 0.6231343283582089\n",
      "Accuracy_score: 0.6492537313432836\n",
      "Accuracy_score: 0.6380597014925373\n",
      "Accuracy_score: 0.6753731343283582\n",
      "Accuracy_score: 0.6492537313432836\n",
      "Accuracy_score: 0.6791044776119403\n",
      "Accuracy_score: 0.6194029850746269\n",
      "Accuracy_score: 0.6567164179104478\n",
      "Accuracy_score: 0.6417910447761194\n"
     ]
    }
   ],
   "source": [
    "for i in range(0,10):\n",
    "    from sklearn.model_selection import train_test_split\n",
    "    X_train,X_test,y_train,y_test=train_test_split(datag[['Age_random2','Fare']].fillna(0),data['Survived'],test_size=0.3, random_state=i)\n",
    "    ### Logistic Regression\n",
    "    from sklearn.linear_model import LogisticRegression\n",
    "    classifier=LogisticRegression()\n",
    "    classifier.fit(X_train,y_train)\n",
    "    y_pred=classifier.predict(X_test)\n",
    "\n",
    "    from sklearn.metrics import accuracy_score\n",
    "    print(\"Accuracy_score: {}\".format(accuracy_score(y_test,y_pred)))\n",
    "    RANDOM2_FIX2.append(accuracy_score(y_test,y_pred))"
   ]
  },
  {
   "cell_type": "code",
   "execution_count": 802,
   "metadata": {},
   "outputs": [
    {
     "name": "stdout",
     "output_type": "stream",
     "text": [
      "Accuracy_score: 0.6977611940298507\n",
      "Accuracy_score: 0.6343283582089553\n",
      "Accuracy_score: 0.6902985074626866\n",
      "Accuracy_score: 0.6231343283582089\n",
      "Accuracy_score: 0.664179104477612\n",
      "Accuracy_score: 0.6940298507462687\n",
      "Accuracy_score: 0.7052238805970149\n",
      "Accuracy_score: 0.664179104477612\n",
      "Accuracy_score: 0.667910447761194\n",
      "Accuracy_score: 0.6455223880597015\n"
     ]
    }
   ],
   "source": [
    "for i in range(0,10):\n",
    "    from sklearn.model_selection import train_test_split\n",
    "    X_train,X_test,y_train,y_test=train_test_split(datas[['Age_random2','Fare']].fillna(0),data['Survived'],test_size=0.3, random_state=i)\n",
    "    ### Logistic Regression\n",
    "    from sklearn.linear_model import LogisticRegression\n",
    "    classifier=LogisticRegression()\n",
    "    classifier.fit(X_train,y_train)\n",
    "    y_pred=classifier.predict(X_test)\n",
    "\n",
    "    from sklearn.metrics import accuracy_score\n",
    "    print(\"Accuracy_score: {}\".format(accuracy_score(y_test,y_pred)))\n",
    "    RANDOM2_FIX3.append(accuracy_score(y_test,y_pred))"
   ]
  },
  {
   "attachments": {},
   "cell_type": "markdown",
   "metadata": {},
   "source": [
    "RANDOM VALUES"
   ]
  },
  {
   "cell_type": "code",
   "execution_count": 803,
   "metadata": {},
   "outputs": [],
   "source": [
    "RANDOMVALUES_FIX=[]\n",
    "RANDOMVALUES_NOTFIX=[]\n",
    "RANDOMVALUES_FIX2=[]\n",
    "RANDOMVALUES_FIX3=[]"
   ]
  },
  {
   "cell_type": "code",
   "execution_count": 804,
   "metadata": {},
   "outputs": [
    {
     "name": "stdout",
     "output_type": "stream",
     "text": [
      "Accuracy_score: 0.7052238805970149\n",
      "Accuracy_score: 0.6455223880597015\n",
      "Accuracy_score: 0.6902985074626866\n",
      "Accuracy_score: 0.6194029850746269\n",
      "Accuracy_score: 0.667910447761194\n",
      "Accuracy_score: 0.6865671641791045\n",
      "Accuracy_score: 0.7052238805970149\n",
      "Accuracy_score: 0.6753731343283582\n",
      "Accuracy_score: 0.6753731343283582\n",
      "Accuracy_score: 0.6529850746268657\n"
     ]
    }
   ],
   "source": [
    "for i in range(0,10):\n",
    "    from sklearn.model_selection import train_test_split\n",
    "    X_train,X_test,y_train,y_test=train_test_split(data[['Age_zero','Fare']].fillna(0),data['Survived'],test_size=0.3, random_state=i)\n",
    "    ### Logistic Regression\n",
    "    from sklearn.linear_model import LogisticRegression\n",
    "    classifier=LogisticRegression()\n",
    "    classifier.fit(X_train,y_train)\n",
    "    y_pred=classifier.predict(X_test)\n",
    "\n",
    "    from sklearn.metrics import accuracy_score\n",
    "    print(\"Accuracy_score: {}\".format(accuracy_score(y_test,y_pred)))\n",
    "    RANDOMVALUES_FIX.append(accuracy_score(y_test,y_pred))"
   ]
  },
  {
   "cell_type": "code",
   "execution_count": 805,
   "metadata": {},
   "outputs": [
    {
     "name": "stdout",
     "output_type": "stream",
     "text": [
      "Accuracy_score: 0.6940298507462687\n",
      "Accuracy_score: 0.6194029850746269\n",
      "Accuracy_score: 0.6567164179104478\n",
      "Accuracy_score: 0.6268656716417911\n",
      "Accuracy_score: 0.6716417910447762\n",
      "Accuracy_score: 0.664179104477612\n",
      "Accuracy_score: 0.6940298507462687\n",
      "Accuracy_score: 0.6194029850746269\n",
      "Accuracy_score: 0.6604477611940298\n",
      "Accuracy_score: 0.6492537313432836\n"
     ]
    }
   ],
   "source": [
    "for i in range(0,10):\n",
    "    from sklearn.model_selection import train_test_split\n",
    "    X_train,X_test,y_train,y_test=train_test_split(df[['Age_zero','Fare']].fillna(0),data['Survived'],test_size=0.3, random_state=i)\n",
    "    ### Logistic Regression\n",
    "    from sklearn.linear_model import LogisticRegression\n",
    "    classifier=LogisticRegression()\n",
    "    classifier.fit(X_train,y_train)\n",
    "    y_pred=classifier.predict(X_test)\n",
    "\n",
    "    from sklearn.metrics import accuracy_score\n",
    "    print(\"Accuracy_score: {}\".format(accuracy_score(y_test,y_pred)))\n",
    "    RANDOMVALUES_NOTFIX.append(accuracy_score(y_test,y_pred))"
   ]
  },
  {
   "cell_type": "code",
   "execution_count": 806,
   "metadata": {},
   "outputs": [
    {
     "name": "stdout",
     "output_type": "stream",
     "text": [
      "Accuracy_score: 0.6977611940298507\n",
      "Accuracy_score: 0.6417910447761194\n",
      "Accuracy_score: 0.6791044776119403\n",
      "Accuracy_score: 0.6194029850746269\n",
      "Accuracy_score: 0.667910447761194\n",
      "Accuracy_score: 0.6753731343283582\n",
      "Accuracy_score: 0.7014925373134329\n",
      "Accuracy_score: 0.6828358208955224\n",
      "Accuracy_score: 0.667910447761194\n",
      "Accuracy_score: 0.6417910447761194\n"
     ]
    }
   ],
   "source": [
    "for i in range(0,10):\n",
    "    from sklearn.model_selection import train_test_split\n",
    "    X_train,X_test,y_train,y_test=train_test_split(data[['Age_hundred','Fare']].fillna(0),data['Survived'],test_size=0.3, random_state=i)\n",
    "    ### Logistic Regression\n",
    "    from sklearn.linear_model import LogisticRegression\n",
    "    classifier=LogisticRegression()\n",
    "    classifier.fit(X_train,y_train)\n",
    "    y_pred=classifier.predict(X_test)\n",
    "\n",
    "    from sklearn.metrics import accuracy_score\n",
    "    print(\"Accuracy_score: {}\".format(accuracy_score(y_test,y_pred)))\n",
    "    "
   ]
  },
  {
   "cell_type": "code",
   "execution_count": 807,
   "metadata": {},
   "outputs": [
    {
     "data": {
      "text/plain": [
       "array([[143,  19],\n",
       "       [ 77,  29]], dtype=int64)"
      ]
     },
     "execution_count": 807,
     "metadata": {},
     "output_type": "execute_result"
    }
   ],
   "source": [
    "from sklearn.metrics import confusion_matrix\n",
    "confusion_matrix(y_test,y_pred)"
   ]
  },
  {
   "cell_type": "code",
   "execution_count": 808,
   "metadata": {},
   "outputs": [
    {
     "name": "stdout",
     "output_type": "stream",
     "text": [
      "Accuracy_score: 0.7014925373134329\n",
      "Accuracy_score: 0.6343283582089553\n",
      "Accuracy_score: 0.6753731343283582\n",
      "Accuracy_score: 0.6305970149253731\n",
      "Accuracy_score: 0.6902985074626866\n",
      "Accuracy_score: 0.6791044776119403\n",
      "Accuracy_score: 0.7014925373134329\n",
      "Accuracy_score: 0.6492537313432836\n",
      "Accuracy_score: 0.6716417910447762\n",
      "Accuracy_score: 0.6604477611940298\n"
     ]
    }
   ],
   "source": [
    "for i in range(0,10):\n",
    "    from sklearn.model_selection import train_test_split\n",
    "    X_train,X_test,y_train,y_test=train_test_split(df[['Age_hundred','Fare']].fillna(0),data['Survived'],test_size=0.3, random_state=i)\n",
    "    ### Logistic Regression\n",
    "    from sklearn.linear_model import LogisticRegression\n",
    "    classifier=LogisticRegression()\n",
    "    classifier.fit(X_train,y_train)\n",
    "    y_pred=classifier.predict(X_test)\n",
    "\n",
    "    from sklearn.metrics import accuracy_score\n",
    "    print(\"Accuracy_score: {}\".format(accuracy_score(y_test,y_pred)))"
   ]
  },
  {
   "attachments": {},
   "cell_type": "markdown",
   "metadata": {},
   "source": [
    "NEWFEATURE"
   ]
  },
  {
   "cell_type": "code",
   "execution_count": 809,
   "metadata": {},
   "outputs": [],
   "source": [
    "NEWFEATURE_FIX=[]\n",
    "NEWFEATURE_NOTFIX=[]\n",
    "NEWFEATURE_FIX2=[]\n",
    "NEWFEATURE_FIX3=[]"
   ]
  },
  {
   "cell_type": "code",
   "execution_count": 810,
   "metadata": {},
   "outputs": [
    {
     "name": "stdout",
     "output_type": "stream",
     "text": [
      "Accuracy_score: 0.6902985074626866\n",
      "Accuracy_score: 0.6268656716417911\n",
      "Accuracy_score: 0.6828358208955224\n",
      "Accuracy_score: 0.6156716417910447\n",
      "Accuracy_score: 0.6567164179104478\n",
      "Accuracy_score: 0.6865671641791045\n",
      "Accuracy_score: 0.7126865671641791\n",
      "Accuracy_score: 0.6492537313432836\n",
      "Accuracy_score: 0.6716417910447762\n",
      "Accuracy_score: 0.6417910447761194\n"
     ]
    }
   ],
   "source": [
    "for i in range(0,10):\n",
    "    from sklearn.model_selection import train_test_split\n",
    "    X_train,X_test,y_train,y_test=train_test_split(data[['Age_NAN','Age_Newf','Fare']].fillna(0),data['Survived'],test_size=0.3, random_state=i)\n",
    "    ### Logistic Regression\n",
    "    from sklearn.linear_model import LogisticRegression\n",
    "    classifier=LogisticRegression()\n",
    "    classifier.fit(X_train,y_train)\n",
    "    y_pred=classifier.predict(X_test)\n",
    "\n",
    "    from sklearn.metrics import accuracy_score\n",
    "    print(\"Accuracy_score: {}\".format(accuracy_score(y_test,y_pred)))\n",
    "    NEWFEATURE_FIX.append(accuracy_score(y_test,y_pred))"
   ]
  },
  {
   "cell_type": "code",
   "execution_count": 811,
   "metadata": {},
   "outputs": [
    {
     "name": "stdout",
     "output_type": "stream",
     "text": [
      "Accuracy_score: 0.6940298507462687\n",
      "Accuracy_score: 0.6268656716417911\n",
      "Accuracy_score: 0.6604477611940298\n",
      "Accuracy_score: 0.6343283582089553\n",
      "Accuracy_score: 0.6977611940298507\n",
      "Accuracy_score: 0.6567164179104478\n",
      "Accuracy_score: 0.6940298507462687\n",
      "Accuracy_score: 0.6231343283582089\n",
      "Accuracy_score: 0.667910447761194\n",
      "Accuracy_score: 0.6455223880597015\n"
     ]
    }
   ],
   "source": [
    "for i in range(0,10):\n",
    "    from sklearn.model_selection import train_test_split\n",
    "    X_train,X_test,y_train,y_test=train_test_split(df[['Age_NAN','Age_Newf','Fare']].fillna(0),data['Survived'],test_size=0.3, random_state=i)\n",
    "    ### Logistic Regression\n",
    "    from sklearn.linear_model import LogisticRegression\n",
    "    classifier=LogisticRegression()\n",
    "    classifier.fit(X_train,y_train)\n",
    "    y_pred=classifier.predict(X_test)\n",
    "\n",
    "    from sklearn.metrics import accuracy_score\n",
    "    print(\"Accuracy_score: {}\".format(accuracy_score(y_test,y_pred)))\n",
    "    NEWFEATURE_NOTFIX.append(accuracy_score(y_test,y_pred))"
   ]
  },
  {
   "cell_type": "code",
   "execution_count": 812,
   "metadata": {},
   "outputs": [
    {
     "name": "stdout",
     "output_type": "stream",
     "text": [
      "Accuracy_score: 0.6977611940298507\n",
      "Accuracy_score: 0.6268656716417911\n",
      "Accuracy_score: 0.6604477611940298\n",
      "Accuracy_score: 0.6343283582089553\n",
      "Accuracy_score: 0.7014925373134329\n",
      "Accuracy_score: 0.6567164179104478\n",
      "Accuracy_score: 0.6940298507462687\n",
      "Accuracy_score: 0.6231343283582089\n",
      "Accuracy_score: 0.667910447761194\n",
      "Accuracy_score: 0.6417910447761194\n"
     ]
    }
   ],
   "source": [
    "for i in range(0,10):\n",
    "    from sklearn.model_selection import train_test_split\n",
    "    X_train,X_test,y_train,y_test=train_test_split(datag[['Age_NAN','Age_Newf','Fare']].fillna(0),data['Survived'],test_size=0.3, random_state=i)\n",
    "    ### Logistic Regression\n",
    "    from sklearn.linear_model import LogisticRegression\n",
    "    classifier=LogisticRegression()\n",
    "    classifier.fit(X_train,y_train)\n",
    "    y_pred=classifier.predict(X_test)\n",
    "\n",
    "    from sklearn.metrics import accuracy_score\n",
    "    print(\"Accuracy_score: {}\".format(accuracy_score(y_test,y_pred)))\n",
    "    NEWFEATURE_FIX2.append(accuracy_score(y_test,y_pred))"
   ]
  },
  {
   "cell_type": "code",
   "execution_count": 813,
   "metadata": {},
   "outputs": [
    {
     "name": "stdout",
     "output_type": "stream",
     "text": [
      "Accuracy_score: 0.6902985074626866\n",
      "Accuracy_score: 0.6268656716417911\n",
      "Accuracy_score: 0.6828358208955224\n",
      "Accuracy_score: 0.6156716417910447\n",
      "Accuracy_score: 0.6567164179104478\n",
      "Accuracy_score: 0.6865671641791045\n",
      "Accuracy_score: 0.7126865671641791\n",
      "Accuracy_score: 0.6492537313432836\n",
      "Accuracy_score: 0.6716417910447762\n",
      "Accuracy_score: 0.6417910447761194\n"
     ]
    }
   ],
   "source": [
    "for i in range(0,10):\n",
    "    from sklearn.model_selection import train_test_split\n",
    "    X_train,X_test,y_train,y_test=train_test_split(datas[['Age_NAN','Age_Newf','Fare']].fillna(0),data['Survived'],test_size=0.3, random_state=i)\n",
    "    ### Logistic Regression\n",
    "    from sklearn.linear_model import LogisticRegression\n",
    "    classifier=LogisticRegression()\n",
    "    classifier.fit(X_train,y_train)\n",
    "    y_pred=classifier.predict(X_test)\n",
    "\n",
    "    from sklearn.metrics import accuracy_score\n",
    "    print(\"Accuracy_score: {}\".format(accuracy_score(y_test,y_pred)))\n",
    "    NEWFEATURE_FIX3.append(accuracy_score(y_test,y_pred))"
   ]
  },
  {
   "attachments": {},
   "cell_type": "markdown",
   "metadata": {},
   "source": [
    "MODE"
   ]
  },
  {
   "cell_type": "code",
   "execution_count": 814,
   "metadata": {},
   "outputs": [],
   "source": [
    "MODE_FIX=[]\n",
    "MODE_NOTFIX=[]\n",
    "MODE_FIX2=[]\n",
    "MODE_FIX3=[]"
   ]
  },
  {
   "cell_type": "code",
   "execution_count": 815,
   "metadata": {},
   "outputs": [
    {
     "name": "stdout",
     "output_type": "stream",
     "text": [
      "Accuracy_score: 0.6940298507462687\n",
      "Accuracy_score: 0.6268656716417911\n",
      "Accuracy_score: 0.6865671641791045\n",
      "Accuracy_score: 0.6231343283582089\n",
      "Accuracy_score: 0.6567164179104478\n",
      "Accuracy_score: 0.6940298507462687\n",
      "Accuracy_score: 0.7089552238805971\n",
      "Accuracy_score: 0.6604477611940298\n",
      "Accuracy_score: 0.667910447761194\n",
      "Accuracy_score: 0.6380597014925373\n"
     ]
    }
   ],
   "source": [
    "for i in range(0,10):\n",
    "    from sklearn.model_selection import train_test_split\n",
    "    X_train,X_test,y_train,y_test=train_test_split(data[['Age_mode','Fare']].fillna(0),data['Survived'],test_size=0.3, random_state=i)\n",
    "    ### Logistic Regression\n",
    "    from sklearn.linear_model import LogisticRegression\n",
    "    classifier=LogisticRegression()\n",
    "    classifier.fit(X_train,y_train)\n",
    "    y_pred=classifier.predict(X_test)\n",
    "\n",
    "    from sklearn.metrics import accuracy_score\n",
    "    print(\"Accuracy_score: {}\".format(accuracy_score(y_test,y_pred)))\n",
    "    MODE_FIX.append(accuracy_score(y_test,y_pred))"
   ]
  },
  {
   "cell_type": "code",
   "execution_count": 816,
   "metadata": {},
   "outputs": [
    {
     "name": "stdout",
     "output_type": "stream",
     "text": [
      "Accuracy_score: 0.6940298507462687\n",
      "Accuracy_score: 0.6231343283582089\n",
      "Accuracy_score: 0.6492537313432836\n",
      "Accuracy_score: 0.6417910447761194\n",
      "Accuracy_score: 0.6791044776119403\n",
      "Accuracy_score: 0.6492537313432836\n",
      "Accuracy_score: 0.6791044776119403\n",
      "Accuracy_score: 0.6231343283582089\n",
      "Accuracy_score: 0.6567164179104478\n",
      "Accuracy_score: 0.6380597014925373\n"
     ]
    }
   ],
   "source": [
    "for i in range(0,10):\n",
    "    from sklearn.model_selection import train_test_split\n",
    "    X_train,X_test,y_train,y_test=train_test_split(df[['Age_mode','Fare']].fillna(0),data['Survived'],test_size=0.3, random_state=i)\n",
    "    ### Logistic Regression\n",
    "    from sklearn.linear_model import LogisticRegression\n",
    "    classifier=LogisticRegression()\n",
    "    classifier.fit(X_train,y_train)\n",
    "    y_pred=classifier.predict(X_test)\n",
    "\n",
    "    from sklearn.metrics import accuracy_score\n",
    "    print(\"Accuracy_score: {}\".format(accuracy_score(y_test,y_pred)))\n",
    "    MODE_NOTFIX.append(accuracy_score(y_test,y_pred))"
   ]
  },
  {
   "cell_type": "code",
   "execution_count": 817,
   "metadata": {},
   "outputs": [
    {
     "name": "stdout",
     "output_type": "stream",
     "text": [
      "Accuracy_score: 0.6940298507462687\n",
      "Accuracy_score: 0.6231343283582089\n",
      "Accuracy_score: 0.6492537313432836\n",
      "Accuracy_score: 0.6417910447761194\n",
      "Accuracy_score: 0.6791044776119403\n",
      "Accuracy_score: 0.6492537313432836\n",
      "Accuracy_score: 0.6791044776119403\n",
      "Accuracy_score: 0.6231343283582089\n",
      "Accuracy_score: 0.6567164179104478\n",
      "Accuracy_score: 0.6380597014925373\n"
     ]
    }
   ],
   "source": [
    "for i in range(0,10):\n",
    "    from sklearn.model_selection import train_test_split\n",
    "    X_train,X_test,y_train,y_test=train_test_split(datag[['Age_mode','Fare']].fillna(0),data['Survived'],test_size=0.3, random_state=i)\n",
    "    ### Logistic Regression\n",
    "    from sklearn.linear_model import LogisticRegression\n",
    "    classifier=LogisticRegression()\n",
    "    classifier.fit(X_train,y_train)\n",
    "    y_pred=classifier.predict(X_test)\n",
    "\n",
    "    from sklearn.metrics import accuracy_score\n",
    "    print(\"Accuracy_score: {}\".format(accuracy_score(y_test,y_pred)))\n",
    "    MODE_FIX2.append(accuracy_score(y_test,y_pred))"
   ]
  },
  {
   "cell_type": "code",
   "execution_count": 818,
   "metadata": {},
   "outputs": [
    {
     "name": "stdout",
     "output_type": "stream",
     "text": [
      "Accuracy_score: 0.6977611940298507\n",
      "Accuracy_score: 0.6268656716417911\n",
      "Accuracy_score: 0.6865671641791045\n",
      "Accuracy_score: 0.6231343283582089\n",
      "Accuracy_score: 0.6604477611940298\n",
      "Accuracy_score: 0.6940298507462687\n",
      "Accuracy_score: 0.7089552238805971\n",
      "Accuracy_score: 0.6604477611940298\n",
      "Accuracy_score: 0.667910447761194\n",
      "Accuracy_score: 0.6380597014925373\n"
     ]
    }
   ],
   "source": [
    "for i in range(0,10):\n",
    "    from sklearn.model_selection import train_test_split\n",
    "    X_train,X_test,y_train,y_test=train_test_split(datas[['Age_mode','Fare']].fillna(0),data['Survived'],test_size=0.3, random_state=i)\n",
    "    ### Logistic Regression\n",
    "    from sklearn.linear_model import LogisticRegression\n",
    "    classifier=LogisticRegression()\n",
    "    classifier.fit(X_train,y_train)\n",
    "    y_pred=classifier.predict(X_test)\n",
    "\n",
    "    from sklearn.metrics import accuracy_score\n",
    "    print(\"Accuracy_score: {}\".format(accuracy_score(y_test,y_pred)))\n",
    "    MODE_FIX3.append(accuracy_score(y_test,y_pred))"
   ]
  },
  {
   "attachments": {},
   "cell_type": "markdown",
   "metadata": {},
   "source": [
    "MEDIAN"
   ]
  },
  {
   "cell_type": "code",
   "execution_count": 819,
   "metadata": {},
   "outputs": [],
   "source": [
    "MEDIAN_FIX=[]\n",
    "MEDIAN_NOTFIX=[]\n",
    "MEDIAN_FIX2=[]\n",
    "MEDIAN_FIX3=[]"
   ]
  },
  {
   "cell_type": "code",
   "execution_count": 820,
   "metadata": {},
   "outputs": [
    {
     "name": "stdout",
     "output_type": "stream",
     "text": [
      "Accuracy_score: 0.7014925373134329\n",
      "Accuracy_score: 0.6231343283582089\n",
      "Accuracy_score: 0.6828358208955224\n",
      "Accuracy_score: 0.6231343283582089\n",
      "Accuracy_score: 0.667910447761194\n",
      "Accuracy_score: 0.6940298507462687\n",
      "Accuracy_score: 0.7126865671641791\n",
      "Accuracy_score: 0.6604477611940298\n",
      "Accuracy_score: 0.667910447761194\n",
      "Accuracy_score: 0.6380597014925373\n"
     ]
    }
   ],
   "source": [
    "for i in range(0,10):\n",
    "    from sklearn.model_selection import train_test_split\n",
    "    X_train,X_test,y_train,y_test=train_test_split(data[['Age_median','Fare']].fillna(0),data['Survived'],test_size=0.3, random_state=i)\n",
    "    ### Logistic Regression\n",
    "    from sklearn.linear_model import LogisticRegression\n",
    "    classifier=LogisticRegression()\n",
    "    classifier.fit(X_train,y_train)\n",
    "    y_pred=classifier.predict(X_test)\n",
    "\n",
    "    from sklearn.metrics import accuracy_score\n",
    "    print(\"Accuracy_score: {}\".format(accuracy_score(y_test,y_pred)))\n",
    "    MEDIAN_FIX.append(accuracy_score(y_test,y_pred))\n",
    "    "
   ]
  },
  {
   "cell_type": "code",
   "execution_count": 821,
   "metadata": {},
   "outputs": [
    {
     "name": "stdout",
     "output_type": "stream",
     "text": [
      "Accuracy_score: 0.6865671641791045\n",
      "Accuracy_score: 0.6231343283582089\n",
      "Accuracy_score: 0.6567164179104478\n",
      "Accuracy_score: 0.6455223880597015\n",
      "Accuracy_score: 0.6753731343283582\n",
      "Accuracy_score: 0.6380597014925373\n",
      "Accuracy_score: 0.6828358208955224\n",
      "Accuracy_score: 0.6343283582089553\n",
      "Accuracy_score: 0.6567164179104478\n",
      "Accuracy_score: 0.6343283582089553\n"
     ]
    }
   ],
   "source": [
    "for i in range(0,10):\n",
    "    from sklearn.model_selection import train_test_split\n",
    "    X_train,X_test,y_train,y_test=train_test_split(df[['Age_median','Fare']].fillna(0),data['Survived'],test_size=0.3, random_state=i)\n",
    "    ### Logistic Regression\n",
    "    from sklearn.linear_model import LogisticRegression\n",
    "    classifier=LogisticRegression()\n",
    "    classifier.fit(X_train,y_train)\n",
    "    y_pred=classifier.predict(X_test)\n",
    "\n",
    "    from sklearn.metrics import accuracy_score\n",
    "    print(\"Accuracy_score: {}\".format(accuracy_score(y_test,y_pred)))\n",
    "    MEDIAN_NOTFIX.append(accuracy_score(y_test,y_pred))"
   ]
  },
  {
   "cell_type": "code",
   "execution_count": 822,
   "metadata": {},
   "outputs": [
    {
     "name": "stdout",
     "output_type": "stream",
     "text": [
      "Accuracy_score: 0.6865671641791045\n",
      "Accuracy_score: 0.6231343283582089\n",
      "Accuracy_score: 0.6567164179104478\n",
      "Accuracy_score: 0.6455223880597015\n",
      "Accuracy_score: 0.6753731343283582\n",
      "Accuracy_score: 0.6380597014925373\n",
      "Accuracy_score: 0.6828358208955224\n",
      "Accuracy_score: 0.6343283582089553\n",
      "Accuracy_score: 0.6567164179104478\n",
      "Accuracy_score: 0.6305970149253731\n"
     ]
    }
   ],
   "source": [
    "for i in range(0,10):\n",
    "    from sklearn.model_selection import train_test_split\n",
    "    X_train,X_test,y_train,y_test=train_test_split(datag[['Age_median','Fare']].fillna(0),data['Survived'],test_size=0.3, random_state=i)\n",
    "    ### Logistic Regression\n",
    "    from sklearn.linear_model import LogisticRegression\n",
    "    classifier=LogisticRegression()\n",
    "    classifier.fit(X_train,y_train)\n",
    "    y_pred=classifier.predict(X_test)\n",
    "\n",
    "    from sklearn.metrics import accuracy_score\n",
    "    print(\"Accuracy_score: {}\".format(accuracy_score(y_test,y_pred)))\n",
    "    MEDIAN_FIX2.append(accuracy_score(y_test,y_pred))\n",
    "    "
   ]
  },
  {
   "cell_type": "code",
   "execution_count": 823,
   "metadata": {},
   "outputs": [
    {
     "name": "stdout",
     "output_type": "stream",
     "text": [
      "Accuracy_score: 0.6977611940298507\n",
      "Accuracy_score: 0.6231343283582089\n",
      "Accuracy_score: 0.6828358208955224\n",
      "Accuracy_score: 0.6231343283582089\n",
      "Accuracy_score: 0.667910447761194\n",
      "Accuracy_score: 0.6940298507462687\n",
      "Accuracy_score: 0.7126865671641791\n",
      "Accuracy_score: 0.6604477611940298\n",
      "Accuracy_score: 0.667910447761194\n",
      "Accuracy_score: 0.6380597014925373\n"
     ]
    }
   ],
   "source": [
    "for i in range(0,10):\n",
    "    from sklearn.model_selection import train_test_split\n",
    "    X_train,X_test,y_train,y_test=train_test_split(datas[['Age_median','Fare']].fillna(0),data['Survived'],test_size=0.3, random_state=i)\n",
    "    ### Logistic Regression\n",
    "    from sklearn.linear_model import LogisticRegression\n",
    "    classifier=LogisticRegression()\n",
    "    classifier.fit(X_train,y_train)\n",
    "    y_pred=classifier.predict(X_test)\n",
    "\n",
    "    from sklearn.metrics import accuracy_score\n",
    "    print(\"Accuracy_score: {}\".format(accuracy_score(y_test,y_pred)))\n",
    "    MEDIAN_FIX3.append(accuracy_score(y_test,y_pred))\n",
    "    "
   ]
  },
  {
   "attachments": {},
   "cell_type": "markdown",
   "metadata": {},
   "source": [
    "Age_end_dist"
   ]
  },
  {
   "cell_type": "code",
   "execution_count": 824,
   "metadata": {},
   "outputs": [],
   "source": [
    "AGEEND_FIX=[]\n",
    "AGEEND_NOTFIX=[]\n",
    "AGEEND_FIX2=[]\n",
    "AGEEND_FIX3=[]"
   ]
  },
  {
   "cell_type": "code",
   "execution_count": 825,
   "metadata": {},
   "outputs": [
    {
     "name": "stdout",
     "output_type": "stream",
     "text": [
      "Accuracy_score: 0.7014925373134329\n",
      "Accuracy_score: 0.6305970149253731\n",
      "Accuracy_score: 0.6828358208955224\n",
      "Accuracy_score: 0.6231343283582089\n",
      "Accuracy_score: 0.6567164179104478\n",
      "Accuracy_score: 0.6791044776119403\n",
      "Accuracy_score: 0.7052238805970149\n",
      "Accuracy_score: 0.6716417910447762\n",
      "Accuracy_score: 0.667910447761194\n",
      "Accuracy_score: 0.6455223880597015\n"
     ]
    }
   ],
   "source": [
    "for i in range(0,10):\n",
    "    from sklearn.model_selection import train_test_split\n",
    "    X_train,X_test,y_train,y_test=train_test_split(data[['Age_end_dist','Fare']].fillna(0),data['Survived'],test_size=0.3, random_state=i)\n",
    "    ### Logistic Regression\n",
    "    from sklearn.linear_model import LogisticRegression\n",
    "    classifier=LogisticRegression()\n",
    "    classifier.fit(X_train,y_train)\n",
    "    y_pred=classifier.predict(X_test)\n",
    "\n",
    "    from sklearn.metrics import accuracy_score\n",
    "    print(\"Accuracy_score: {}\".format(accuracy_score(y_test,y_pred)))\n",
    "    AGEEND_FIX.append(accuracy_score(y_test,y_pred))"
   ]
  },
  {
   "cell_type": "code",
   "execution_count": 826,
   "metadata": {},
   "outputs": [
    {
     "name": "stdout",
     "output_type": "stream",
     "text": [
      "Accuracy_score: 0.6940298507462687\n",
      "Accuracy_score: 0.6305970149253731\n",
      "Accuracy_score: 0.664179104477612\n",
      "Accuracy_score: 0.6268656716417911\n",
      "Accuracy_score: 0.7014925373134329\n",
      "Accuracy_score: 0.6716417910447762\n",
      "Accuracy_score: 0.6977611940298507\n",
      "Accuracy_score: 0.6380597014925373\n",
      "Accuracy_score: 0.667910447761194\n",
      "Accuracy_score: 0.6455223880597015\n"
     ]
    }
   ],
   "source": [
    "for i in range(0,10):\n",
    "    from sklearn.model_selection import train_test_split\n",
    "    X_train,X_test,y_train,y_test=train_test_split(df[['Age_end_dist','Fare']].fillna(0),data['Survived'],test_size=0.3, random_state=i)\n",
    "    ### Logistic Regression\n",
    "    from sklearn.linear_model import LogisticRegression\n",
    "    classifier=LogisticRegression()\n",
    "    classifier.fit(X_train,y_train)\n",
    "    y_pred=classifier.predict(X_test)\n",
    "\n",
    "    from sklearn.metrics import accuracy_score\n",
    "    print(\"Accuracy_score: {}\".format(accuracy_score(y_test,y_pred)))\n",
    "    AGEEND_NOTFIX.append(accuracy_score(y_test,y_pred))"
   ]
  },
  {
   "cell_type": "code",
   "execution_count": 827,
   "metadata": {},
   "outputs": [
    {
     "name": "stdout",
     "output_type": "stream",
     "text": [
      "Accuracy_score: 0.6940298507462687\n",
      "Accuracy_score: 0.6305970149253731\n",
      "Accuracy_score: 0.664179104477612\n",
      "Accuracy_score: 0.6268656716417911\n",
      "Accuracy_score: 0.7014925373134329\n",
      "Accuracy_score: 0.6716417910447762\n",
      "Accuracy_score: 0.6977611940298507\n",
      "Accuracy_score: 0.6380597014925373\n",
      "Accuracy_score: 0.667910447761194\n",
      "Accuracy_score: 0.6455223880597015\n"
     ]
    }
   ],
   "source": [
    "for i in range(0,10):\n",
    "    from sklearn.model_selection import train_test_split\n",
    "    X_train,X_test,y_train,y_test=train_test_split(datag[['Age_end_dist','Fare']].fillna(0),data['Survived'],test_size=0.3, random_state=i)\n",
    "    ### Logistic Regression\n",
    "    from sklearn.linear_model import LogisticRegression\n",
    "    classifier=LogisticRegression()\n",
    "    classifier.fit(X_train,y_train)\n",
    "    y_pred=classifier.predict(X_test)\n",
    "\n",
    "    from sklearn.metrics import accuracy_score\n",
    "    print(\"Accuracy_score: {}\".format(accuracy_score(y_test,y_pred)))\n",
    "    AGEEND_FIX2.append(accuracy_score(y_test,y_pred))"
   ]
  },
  {
   "cell_type": "code",
   "execution_count": 828,
   "metadata": {},
   "outputs": [
    {
     "name": "stdout",
     "output_type": "stream",
     "text": [
      "Accuracy_score: 0.7014925373134329\n",
      "Accuracy_score: 0.6305970149253731\n",
      "Accuracy_score: 0.6828358208955224\n",
      "Accuracy_score: 0.6231343283582089\n",
      "Accuracy_score: 0.6567164179104478\n",
      "Accuracy_score: 0.6791044776119403\n",
      "Accuracy_score: 0.7052238805970149\n",
      "Accuracy_score: 0.6716417910447762\n",
      "Accuracy_score: 0.667910447761194\n",
      "Accuracy_score: 0.6455223880597015\n"
     ]
    }
   ],
   "source": [
    "for i in range(0,10):\n",
    "    from sklearn.model_selection import train_test_split\n",
    "    X_train,X_test,y_train,y_test=train_test_split(datas[['Age_end_dist','Fare']].fillna(0),data['Survived'],test_size=0.3, random_state=i)\n",
    "    ### Logistic Regression\n",
    "    from sklearn.linear_model import LogisticRegression\n",
    "    classifier=LogisticRegression()\n",
    "    classifier.fit(X_train,y_train)\n",
    "    y_pred=classifier.predict(X_test)\n",
    "\n",
    "    from sklearn.metrics import accuracy_score\n",
    "    print(\"Accuracy_score: {}\".format(accuracy_score(y_test,y_pred)))\n",
    "    AGEEND_FIX3.append(accuracy_score(y_test,y_pred))"
   ]
  },
  {
   "cell_type": "code",
   "execution_count": 829,
   "metadata": {},
   "outputs": [],
   "source": [
    "# y_test[0:10]"
   ]
  },
  {
   "cell_type": "code",
   "execution_count": 830,
   "metadata": {},
   "outputs": [],
   "source": [
    "# y_pred[0:10]"
   ]
  },
  {
   "cell_type": "code",
   "execution_count": 831,
   "metadata": {},
   "outputs": [
    {
     "name": "stdout",
     "output_type": "stream",
     "text": [
      "              Age Outliers Fare Outliers  Accuracy\n",
      "MEAN                  NONE          NONE   0.65299\n",
      "MEAN         Gaussian dist          NONE   0.65410\n",
      "MEAN                  NONE        Skewed   0.66716\n",
      "MEAN         Gaussian dist        Skewed   0.66716\n",
      "MEDIAN                NONE          NONE   0.65336\n",
      "MEDIAN       Gaussian dist          NONE   0.65299\n",
      "MEDIAN                NONE        Skewed   0.66679\n",
      "MEDIAN       Gaussian dist        Skewed   0.66716\n",
      "MODE                  NONE          NONE   0.65336\n",
      "MODE         Gaussian dist          NONE   0.65336\n",
      "MODE                  NONE        Skewed   0.66642\n",
      "MODE         Gaussian dist        Skewed   0.66567\n",
      "RANDOMVALUE           NONE          NONE   0.65448\n",
      "RANDOMVALUE  Gaussian dist          NONE   0.65485\n",
      "RANDOMVALUE           NONE        Skewed   0.66791\n",
      "RANDOMVALUE  Gaussian dist        Skewed   0.66754\n",
      "RANDOM                NONE          NONE   0.65261\n",
      "RANDOM       Gaussian dist          NONE   0.65261\n",
      "RANDOM                NONE        Skewed   0.66866\n",
      "RANDOM       Gaussian dist        Skewed   0.66866\n",
      "NEW FEATURE           NONE          NONE   0.66007\n",
      "NEW FEATURE  Gaussian dist          NONE   0.66045\n",
      "NEW FEATURE           NONE        Skewed   0.66343\n",
      "NEW FEATURE  Gaussian dist        Skewed   0.66343\n",
      "End_dist              NONE          NONE   0.66381\n",
      "End_dist     Gaussian dist          NONE   0.66381\n",
      "End_dist              NONE        Skewed   0.66642\n",
      "End_dist     Gaussian dist        Skewed   0.66642\n"
     ]
    }
   ],
   "source": [
    "dfAcc = pd.DataFrame ({\n",
    "    'Age Outliers': [ \n",
    "                                 'NONE',\n",
    "                                 'Gaussian dist', \n",
    "                                 'NONE', \n",
    "                                 'Gaussian dist', \n",
    "                                 'NONE',\n",
    "                                 'Gaussian dist', \n",
    "                                 'NONE', \n",
    "                                 'Gaussian dist', \n",
    "                                 'NONE',\n",
    "                                 'Gaussian dist', \n",
    "                                 'NONE', \n",
    "                                 'Gaussian dist', \n",
    "                                 'NONE',\n",
    "                                 'Gaussian dist', \n",
    "                                 'NONE', \n",
    "                                 'Gaussian dist', \n",
    "                                 'NONE',\n",
    "                                 'Gaussian dist', \n",
    "                                 'NONE', \n",
    "                                 'Gaussian dist', \n",
    "                                 'NONE',\n",
    "                                 'Gaussian dist', \n",
    "                                 'NONE', \n",
    "                                 'Gaussian dist', \n",
    "                                 'NONE',\n",
    "                                 'Gaussian dist', \n",
    "                                 'NONE', \n",
    "                                 'Gaussian dist'], \n",
    "    'Fare Outliers':  [\n",
    "                                 'NONE', \n",
    "                                 'NONE',\n",
    "                                 'Skewed', \n",
    "                                 'Skewed', \n",
    "                                 'NONE', \n",
    "                                 'NONE',\n",
    "                                 'Skewed', \n",
    "                                 'Skewed',\n",
    "                                 'NONE', \n",
    "                                 'NONE',\n",
    "                                 'Skewed', \n",
    "                                 'Skewed',\n",
    "                                 'NONE', \n",
    "                                 'NONE',\n",
    "                                 'Skewed', \n",
    "                                 'Skewed',\n",
    "                                 'NONE', \n",
    "                                 'NONE',\n",
    "                                 'Skewed', \n",
    "                                 'Skewed',\n",
    "                                 'NONE', \n",
    "                                 'NONE',\n",
    "                                 'Skewed', \n",
    "                                 'Skewed',\n",
    "                                 'NONE', \n",
    "                                 'NONE',\n",
    "                                 'Skewed',\n",
    "                                 'Skewed'], \n",
    "                                 \n",
    "    'Accuracy':  [\n",
    "                                 round(np.mean(AGE_MEANFARE_NOTFIX),5),\n",
    "                                 round(np.mean(AGE_MEANFARE_FIX2),5),\n",
    "                                 round(np.mean(AGE_MEANFARE_FIX3),5),\n",
    "                                 round(np.mean(AGE_MEANFARE_FIX),5),\n",
    "                                 round(np.mean(MEDIAN_NOTFIX),5),\n",
    "                                 round(np.mean(MEDIAN_FIX2),5),\n",
    "                                 round(np.mean(MEDIAN_FIX3),5),\n",
    "                                 round(np.mean(MEDIAN_FIX),5),\n",
    "                                 round(np.mean(MODE_NOTFIX),5), \n",
    "                                 round(np.mean(MODE_FIX2),5),\n",
    "                                 round(np.mean(MODE_FIX3),5),     \n",
    "                                 round(np.mean(MODE_FIX),5),    \n",
    "                                 round(np.mean(RANDOM_NOTFIX),5),\n",
    "                                 round(np.mean(RANDOM_FIX2),5),\n",
    "                                 round(np.mean(RANDOM_FIX3),5), \n",
    "                                 round(np.mean(RANDOM_FIX),5),\n",
    "                                 round(np.mean(RANDOM2_NOTFIX),5), \n",
    "                                 round(np.mean(RANDOM2_FIX2),5), \n",
    "                                 round(np.mean(RANDOM2_FIX3),5), \n",
    "                                 round(np.mean(RANDOM2_FIX),5), \n",
    "                                 round(np.mean(NEWFEATURE_NOTFIX),5), \n",
    "                                 round(np.mean(NEWFEATURE_FIX2),5), \n",
    "                                 round(np.mean(NEWFEATURE_FIX3),5), \n",
    "                                 round(np.mean(NEWFEATURE_FIX),5), \n",
    "                                 round(np.mean(AGEEND_NOTFIX),5), \n",
    "                                 round(np.mean(AGEEND_FIX2),5), \n",
    "                                 round(np.mean(AGEEND_FIX3),5), \n",
    "                                 round(np.mean(AGEEND_FIX),5)],\n",
    "    \n",
    "    \n",
    "})\n",
    "dfAcc.index = [ 'MEAN','MEAN','MEAN','MEAN','MEDIAN','MEDIAN','MEDIAN','MEDIAN','MODE','MODE','MODE','MODE', 'RANDOMVALUE','RANDOMVALUE','RANDOMVALUE','RANDOMVALUE', 'RANDOM','RANDOM', 'RANDOM', 'RANDOM',  'NEW FEATURE','NEW FEATURE','NEW FEATURE','NEW FEATURE', 'End_dist','End_dist', 'End_dist', 'End_dist']\n",
    "print(dfAcc)"
   ]
  },
  {
   "cell_type": "code",
   "execution_count": 832,
   "metadata": {},
   "outputs": [
    {
     "data": {
      "text/plain": [
       "0.66866"
      ]
     },
     "execution_count": 832,
     "metadata": {},
     "output_type": "execute_result"
    }
   ],
   "source": [
    "max(dfAcc['Accuracy'])"
   ]
  },
  {
   "cell_type": "code",
   "execution_count": 833,
   "metadata": {},
   "outputs": [
    {
     "data": {
      "text/plain": [
       "0.65261"
      ]
     },
     "execution_count": 833,
     "metadata": {},
     "output_type": "execute_result"
    }
   ],
   "source": [
    "min(dfAcc['Accuracy'])"
   ]
  }
 ],
 "metadata": {
  "kernelspec": {
   "display_name": "Python 3",
   "language": "python",
   "name": "python3"
  },
  "language_info": {
   "codemirror_mode": {
    "name": "ipython",
    "version": 3
   },
   "file_extension": ".py",
   "mimetype": "text/x-python",
   "name": "python",
   "nbconvert_exporter": "python",
   "pygments_lexer": "ipython3",
   "version": "3.10.11"
  },
  "vscode": {
   "interpreter": {
    "hash": "9deea79bfd8769c20cdb41e577c31349975f53057f7c4a88718c49dab3f025eb"
   }
  }
 },
 "nbformat": 4,
 "nbformat_minor": 4
}
